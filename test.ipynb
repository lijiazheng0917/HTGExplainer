{
 "cells": [
  {
   "cell_type": "code",
   "execution_count": 1,
   "metadata": {},
   "outputs": [
    {
     "name": "stderr",
     "output_type": "stream",
     "text": [
      "/home/jiazhengli/anaconda3/envs/pt/lib/python3.9/site-packages/tqdm/auto.py:22: TqdmWarning: IProgress not found. Please update jupyter and ipywidgets. See https://ipywidgets.readthedocs.io/en/stable/user_install.html\n",
      "  from .autonotebook import tqdm as notebook_tqdm\n"
     ]
    }
   ],
   "source": [
    "import dgl\n",
    "from dgl.data.utils import load_graphs\n",
    "\n",
    "import torch\n",
    "import torch.nn as nn\n",
    "import torch.nn.functional as F\n",
    "import numpy as np\n",
    "import random\n",
    "\n",
    "from model.model import HTGNN, NodePredictor\n",
    "from utils.pytorchtools import EarlyStopping\n",
    "from utils.data import load_COVID_data\n",
    "\n",
    "dgl.seed(0)\n",
    "np.random.seed(0)\n",
    "torch.manual_seed(0)\n",
    "torch.cuda.manual_seed(0)\n",
    "torch.cuda.manual_seed_all(0)"
   ]
  },
  {
   "cell_type": "code",
   "execution_count": 4,
   "metadata": {},
   "outputs": [],
   "source": [
    "x = np.array([])"
   ]
  },
  {
   "cell_type": "code",
   "execution_count": 5,
   "metadata": {},
   "outputs": [],
   "source": [
    "y = np.array([1,2,3])\n",
    "z = np.array([4,5,6])"
   ]
  },
  {
   "cell_type": "code",
   "execution_count": 11,
   "metadata": {},
   "outputs": [
    {
     "data": {
      "text/plain": [
       "array([1, 2, 3, 4, 5, 6])"
      ]
     },
     "execution_count": 11,
     "metadata": {},
     "output_type": "execute_result"
    },
    {
     "ename": "",
     "evalue": "",
     "output_type": "error",
     "traceback": [
      "\u001b[1;31mThe Kernel crashed while executing code in the the current cell or a previous cell. Please review the code in the cell(s) to identify a possible cause of the failure. Click <a href='https://aka.ms/vscodeJupyterKernelCrash'>here</a> for more info. View Jupyter <a href='command:jupyter.viewOutput'>log</a> for further details."
     ]
    }
   ],
   "source": [
    "np.concatenate((y,z))"
   ]
  },
  {
   "cell_type": "code",
   "execution_count": 7,
   "metadata": {},
   "outputs": [],
   "source": [
    "a = [1,2,3,4,5,6,7,8,9,10,11,12]\n"
   ]
  },
  {
   "cell_type": "code",
   "execution_count": 11,
   "metadata": {},
   "outputs": [
    {
     "data": {
      "text/plain": [
       "[2, 5, 8, 11]"
      ]
     },
     "execution_count": 11,
     "metadata": {},
     "output_type": "execute_result"
    }
   ],
   "source": [
    "# a[::3]\n",
    "a[1::3]"
   ]
  },
  {
   "cell_type": "code",
   "execution_count": 12,
   "metadata": {},
   "outputs": [
    {
     "data": {
      "text/plain": [
       "[3, 6, 9, 12]"
      ]
     },
     "execution_count": 12,
     "metadata": {},
     "output_type": "execute_result"
    }
   ],
   "source": [
    "a[2::3]"
   ]
  },
  {
   "cell_type": "code",
   "execution_count": 3,
   "metadata": {},
   "outputs": [
    {
     "data": {
      "text/plain": [
       "array([[1, 2, 3],\n",
       "       [4, 5, 6],\n",
       "       [7, 8, 9]])"
      ]
     },
     "execution_count": 3,
     "metadata": {},
     "output_type": "execute_result"
    }
   ],
   "source": [
    "x"
   ]
  },
  {
   "cell_type": "code",
   "execution_count": 6,
   "metadata": {},
   "outputs": [
    {
     "data": {
      "text/plain": [
       "array([4., 5., 6.])"
      ]
     },
     "execution_count": 6,
     "metadata": {},
     "output_type": "execute_result"
    }
   ],
   "source": [
    "np.mean(x,axis=0)"
   ]
  },
  {
   "cell_type": "code",
   "execution_count": 20,
   "metadata": {},
   "outputs": [],
   "source": [
    "batchs = 10000 // 64 \n",
    "start = random.choice(list(range(batchs-6)))"
   ]
  },
  {
   "cell_type": "code",
   "execution_count": 21,
   "metadata": {},
   "outputs": [
    {
     "data": {
      "text/plain": [
       "30"
      ]
     },
     "execution_count": 21,
     "metadata": {},
     "output_type": "execute_result"
    }
   ],
   "source": [
    "start"
   ]
  },
  {
   "cell_type": "code",
   "execution_count": 22,
   "metadata": {},
   "outputs": [
    {
     "data": {
      "text/plain": [
       "range(30, 33)"
      ]
     },
     "execution_count": 22,
     "metadata": {},
     "output_type": "execute_result"
    }
   ],
   "source": [
    "range(start, start + 3)"
   ]
  },
  {
   "cell_type": "code",
   "execution_count": 12,
   "metadata": {},
   "outputs": [
    {
     "data": {
      "text/plain": [
       "tensor([[-0.8567,  1.1006, -1.0712],\n",
       "        [ 0.1227, -0.5663,  0.3731],\n",
       "        [-0.8920, -1.5091,  0.3704],\n",
       "        [ 1.4565,  0.9398,  0.7748]])"
      ]
     },
     "execution_count": 12,
     "metadata": {},
     "output_type": "execute_result"
    }
   ],
   "source": [
    "x = torch.randn(2, 3)\n",
    "y = torch.randn(2, 3)\n",
    "z = torch.cat((x,y))\n",
    "z"
   ]
  },
  {
   "cell_type": "code",
   "execution_count": 13,
   "metadata": {},
   "outputs": [
    {
     "data": {
      "text/plain": [
       "2"
      ]
     },
     "execution_count": 13,
     "metadata": {},
     "output_type": "execute_result"
    }
   ],
   "source": [
    "z.dim()"
   ]
  },
  {
   "cell_type": "code",
   "execution_count": 14,
   "metadata": {},
   "outputs": [],
   "source": [
    "z = z.T.unsqueeze(0)"
   ]
  },
  {
   "cell_type": "code",
   "execution_count": 17,
   "metadata": {},
   "outputs": [
    {
     "data": {
      "text/plain": [
       "torch.Size([1, 3, 4])"
      ]
     },
     "execution_count": 17,
     "metadata": {},
     "output_type": "execute_result"
    },
    {
     "ename": "",
     "evalue": "",
     "output_type": "error",
     "traceback": [
      "\u001b[1;31mThe Kernel crashed while executing code in the the current cell or a previous cell. Please review the code in the cell(s) to identify a possible cause of the failure. Click <a href='https://aka.ms/vscodeJupyterKernelCrash'>here</a> for more info. View Jupyter <a href='command:jupyter.viewOutput'>log</a> for further details."
     ]
    }
   ],
   "source": [
    "z.shape"
   ]
  },
  {
   "cell_type": "code",
   "execution_count": 2,
   "metadata": {},
   "outputs": [],
   "source": [
    "device = torch.device('cuda')\n",
    "glist, _ = load_graphs('data/covid_graphs.bin')\n",
    "time_window = 7\n",
    "\n",
    "train_feats, train_labels, val_feats, val_labels, test_feats, test_labels = load_COVID_data(glist, time_window)\n"
   ]
  },
  {
   "cell_type": "code",
   "execution_count": 9,
   "metadata": {},
   "outputs": [
    {
     "data": {
      "text/plain": [
       "tensor([ 0,  1,  2,  3,  4,  5,  6,  7,  8,  9, 10, 11, 12, 13, 14, 15, 16, 17,\n",
       "        18, 19, 20, 21, 22, 23, 24, 25, 26, 27, 28, 29, 30, 31, 32, 33, 34, 35,\n",
       "        36, 37, 38, 39, 40, 41, 42, 43, 44, 45, 46, 47, 48, 49, 50],\n",
       "       dtype=torch.int32)"
      ]
     },
     "execution_count": 9,
     "metadata": {},
     "output_type": "execute_result"
    }
   ],
   "source": [
    "train_feats[0].nodes('state')"
   ]
  },
  {
   "cell_type": "code",
   "execution_count": 10,
   "metadata": {},
   "outputs": [],
   "source": [
    "sg, inverse_indices = dgl.khop_in_subgraph(train_feats[0], {'state': 2}, k=2, store_ids=True)"
   ]
  },
  {
   "cell_type": "code",
   "execution_count": 11,
   "metadata": {},
   "outputs": [
    {
     "data": {
      "text/plain": [
       "Graph(num_nodes={'county': 216, 'state': 13},\n",
       "      num_edges={('county', 'affiliate_r_t0', 'state'): 216, ('county', 'affiliate_r_t1', 'state'): 216, ('county', 'affiliate_r_t2', 'state'): 216, ('county', 'affiliate_r_t3', 'state'): 216, ('county', 'affiliate_r_t4', 'state'): 216, ('county', 'affiliate_r_t5', 'state'): 216, ('county', 'affiliate_r_t6', 'state'): 216, ('county', 'nearby_county_t0', 'county'): 1412, ('county', 'nearby_county_t1', 'county'): 1412, ('county', 'nearby_county_t2', 'county'): 1412, ('county', 'nearby_county_t3', 'county'): 1412, ('county', 'nearby_county_t4', 'county'): 1412, ('county', 'nearby_county_t5', 'county'): 1412, ('county', 'nearby_county_t6', 'county'): 1412, ('state', 'affiliate_t0', 'county'): 216, ('state', 'affiliate_t1', 'county'): 216, ('state', 'affiliate_t2', 'county'): 216, ('state', 'affiliate_t3', 'county'): 216, ('state', 'affiliate_t4', 'county'): 216, ('state', 'affiliate_t5', 'county'): 216, ('state', 'affiliate_t6', 'county'): 216, ('state', 'nearby_state_t0', 'state'): 67, ('state', 'nearby_state_t1', 'state'): 67, ('state', 'nearby_state_t2', 'state'): 67, ('state', 'nearby_state_t3', 'state'): 67, ('state', 'nearby_state_t4', 'state'): 67, ('state', 'nearby_state_t5', 'state'): 67, ('state', 'nearby_state_t6', 'state'): 67},\n",
       "      metagraph=[('county', 'state', 'affiliate_r_t0'), ('county', 'state', 'affiliate_r_t1'), ('county', 'state', 'affiliate_r_t2'), ('county', 'state', 'affiliate_r_t3'), ('county', 'state', 'affiliate_r_t4'), ('county', 'state', 'affiliate_r_t5'), ('county', 'state', 'affiliate_r_t6'), ('county', 'county', 'nearby_county_t0'), ('county', 'county', 'nearby_county_t1'), ('county', 'county', 'nearby_county_t2'), ('county', 'county', 'nearby_county_t3'), ('county', 'county', 'nearby_county_t4'), ('county', 'county', 'nearby_county_t5'), ('county', 'county', 'nearby_county_t6'), ('state', 'county', 'affiliate_t0'), ('state', 'county', 'affiliate_t1'), ('state', 'county', 'affiliate_t2'), ('state', 'county', 'affiliate_t3'), ('state', 'county', 'affiliate_t4'), ('state', 'county', 'affiliate_t5'), ('state', 'county', 'affiliate_t6'), ('state', 'state', 'nearby_state_t0'), ('state', 'state', 'nearby_state_t1'), ('state', 'state', 'nearby_state_t2'), ('state', 'state', 'nearby_state_t3'), ('state', 'state', 'nearby_state_t4'), ('state', 'state', 'nearby_state_t5'), ('state', 'state', 'nearby_state_t6')])"
      ]
     },
     "execution_count": 11,
     "metadata": {},
     "output_type": "execute_result"
    }
   ],
   "source": [
    "sg"
   ]
  },
  {
   "cell_type": "code",
   "execution_count": 6,
   "metadata": {},
   "outputs": [],
   "source": [
    "sg, inverse_indices = dgl.khop_in_subgraph(train_feats[0], {'state': [1,2]}, k=2, store_ids=True)"
   ]
  },
  {
   "cell_type": "code",
   "execution_count": 7,
   "metadata": {},
   "outputs": [
    {
     "data": {
      "text/plain": [
       "Graph(num_nodes={'county': 245, 'state': 14},\n",
       "      num_edges={('county', 'affiliate_r_t0', 'state'): 245, ('county', 'affiliate_r_t1', 'state'): 245, ('county', 'affiliate_r_t2', 'state'): 245, ('county', 'affiliate_r_t3', 'state'): 245, ('county', 'affiliate_r_t4', 'state'): 245, ('county', 'affiliate_r_t5', 'state'): 245, ('county', 'affiliate_r_t6', 'state'): 245, ('county', 'nearby_county_t0', 'county'): 1543, ('county', 'nearby_county_t1', 'county'): 1543, ('county', 'nearby_county_t2', 'county'): 1543, ('county', 'nearby_county_t3', 'county'): 1543, ('county', 'nearby_county_t4', 'county'): 1543, ('county', 'nearby_county_t5', 'county'): 1543, ('county', 'nearby_county_t6', 'county'): 1543, ('state', 'affiliate_t0', 'county'): 245, ('state', 'affiliate_t1', 'county'): 245, ('state', 'affiliate_t2', 'county'): 245, ('state', 'affiliate_t3', 'county'): 245, ('state', 'affiliate_t4', 'county'): 245, ('state', 'affiliate_t5', 'county'): 245, ('state', 'affiliate_t6', 'county'): 245, ('state', 'nearby_state_t0', 'state'): 68, ('state', 'nearby_state_t1', 'state'): 68, ('state', 'nearby_state_t2', 'state'): 68, ('state', 'nearby_state_t3', 'state'): 68, ('state', 'nearby_state_t4', 'state'): 68, ('state', 'nearby_state_t5', 'state'): 68, ('state', 'nearby_state_t6', 'state'): 68},\n",
       "      metagraph=[('county', 'state', 'affiliate_r_t0'), ('county', 'state', 'affiliate_r_t1'), ('county', 'state', 'affiliate_r_t2'), ('county', 'state', 'affiliate_r_t3'), ('county', 'state', 'affiliate_r_t4'), ('county', 'state', 'affiliate_r_t5'), ('county', 'state', 'affiliate_r_t6'), ('county', 'county', 'nearby_county_t0'), ('county', 'county', 'nearby_county_t1'), ('county', 'county', 'nearby_county_t2'), ('county', 'county', 'nearby_county_t3'), ('county', 'county', 'nearby_county_t4'), ('county', 'county', 'nearby_county_t5'), ('county', 'county', 'nearby_county_t6'), ('state', 'county', 'affiliate_t0'), ('state', 'county', 'affiliate_t1'), ('state', 'county', 'affiliate_t2'), ('state', 'county', 'affiliate_t3'), ('state', 'county', 'affiliate_t4'), ('state', 'county', 'affiliate_t5'), ('state', 'county', 'affiliate_t6'), ('state', 'state', 'nearby_state_t0'), ('state', 'state', 'nearby_state_t1'), ('state', 'state', 'nearby_state_t2'), ('state', 'state', 'nearby_state_t3'), ('state', 'state', 'nearby_state_t4'), ('state', 'state', 'nearby_state_t5'), ('state', 'state', 'nearby_state_t6')])"
      ]
     },
     "execution_count": 7,
     "metadata": {},
     "output_type": "execute_result"
    }
   ],
   "source": [
    "sg"
   ]
  },
  {
   "cell_type": "code",
   "execution_count": 14,
   "metadata": {},
   "outputs": [],
   "source": [
    "dic = {}\n",
    "z = 0\n",
    "# k = 0 \n",
    "for stype, etype, dtype in sg.canonical_etypes:\n",
    "    k = sg[stype, etype, dtype].number_of_edges()\n",
    "    # k = sg[stype, etype, dtype].number_of_edges()\n",
    "    dic[etype] = (z,z + k)\n",
    "    z += k\n"
   ]
  },
  {
   "cell_type": "code",
   "execution_count": 15,
   "metadata": {},
   "outputs": [
    {
     "data": {
      "text/plain": [
       "{'affiliate_r_t0': (0, 29),\n",
       " 'affiliate_r_t1': (29, 58),\n",
       " 'affiliate_r_t2': (58, 87),\n",
       " 'affiliate_r_t3': (87, 116),\n",
       " 'affiliate_r_t4': (116, 145),\n",
       " 'affiliate_r_t5': (145, 174),\n",
       " 'affiliate_r_t6': (174, 203),\n",
       " 'nearby_county_t0': (203, 334),\n",
       " 'nearby_county_t1': (334, 465),\n",
       " 'nearby_county_t2': (465, 596),\n",
       " 'nearby_county_t3': (596, 727),\n",
       " 'nearby_county_t4': (727, 858),\n",
       " 'nearby_county_t5': (858, 989),\n",
       " 'nearby_county_t6': (989, 1120),\n",
       " 'affiliate_t0': (1120, 1149),\n",
       " 'affiliate_t1': (1149, 1178),\n",
       " 'affiliate_t2': (1178, 1207),\n",
       " 'affiliate_t3': (1207, 1236),\n",
       " 'affiliate_t4': (1236, 1265),\n",
       " 'affiliate_t5': (1265, 1294),\n",
       " 'affiliate_t6': (1294, 1323),\n",
       " 'nearby_state_t0': (1323, 1324),\n",
       " 'nearby_state_t1': (1324, 1325),\n",
       " 'nearby_state_t2': (1325, 1326),\n",
       " 'nearby_state_t3': (1326, 1327),\n",
       " 'nearby_state_t4': (1327, 1328),\n",
       " 'nearby_state_t5': (1328, 1329),\n",
       " 'nearby_state_t6': (1329, 1330)}"
      ]
     },
     "execution_count": 15,
     "metadata": {},
     "output_type": "execute_result"
    }
   ],
   "source": [
    "dic"
   ]
  },
  {
   "cell_type": "code",
   "execution_count": 17,
   "metadata": {},
   "outputs": [
    {
     "name": "stdout",
     "output_type": "stream",
     "text": [
      "\n",
      "\n",
      "\n",
      "\n"
     ]
    }
   ],
   "source": [
    "print('\\n'*3)"
   ]
  },
  {
   "cell_type": "code",
   "execution_count": 24,
   "metadata": {},
   "outputs": [
    {
     "data": {
      "text/plain": [
       "['affiliate_r_t0',\n",
       " 'affiliate_r_t1',\n",
       " 'affiliate_r_t2',\n",
       " 'affiliate_r_t3',\n",
       " 'affiliate_r_t4',\n",
       " 'affiliate_r_t5',\n",
       " 'affiliate_r_t6',\n",
       " 'nearby_county_t0',\n",
       " 'nearby_county_t1',\n",
       " 'nearby_county_t2',\n",
       " 'nearby_county_t3',\n",
       " 'nearby_county_t4',\n",
       " 'nearby_county_t5',\n",
       " 'nearby_county_t6',\n",
       " 'affiliate_t0',\n",
       " 'affiliate_t1',\n",
       " 'affiliate_t2',\n",
       " 'affiliate_t3',\n",
       " 'affiliate_t4',\n",
       " 'affiliate_t5',\n",
       " 'affiliate_t6',\n",
       " 'nearby_state_t0',\n",
       " 'nearby_state_t1',\n",
       " 'nearby_state_t2',\n",
       " 'nearby_state_t3',\n",
       " 'nearby_state_t4',\n",
       " 'nearby_state_t5',\n",
       " 'nearby_state_t6']"
      ]
     },
     "execution_count": 24,
     "metadata": {},
     "output_type": "execute_result"
    }
   ],
   "source": [
    "train_feats[0].etypes"
   ]
  },
  {
   "cell_type": "code",
   "execution_count": 25,
   "metadata": {},
   "outputs": [],
   "source": [
    "c = {type:0 for type in sg.etypes}"
   ]
  },
  {
   "cell_type": "code",
   "execution_count": 23,
   "metadata": {},
   "outputs": [
    {
     "data": {
      "text/plain": [
       "1"
      ]
     },
     "execution_count": 23,
     "metadata": {},
     "output_type": "execute_result"
    }
   ],
   "source": [
    "sg.num_nodes(ntype='state')"
   ]
  },
  {
   "cell_type": "code",
   "execution_count": 5,
   "metadata": {},
   "outputs": [
    {
     "data": {
      "text/plain": [
       "Graph(num_nodes={'county': 3223, 'state': 51},\n",
       "      num_edges={('county', 'affiliate_r_t0', 'state'): 3141, ('county', 'affiliate_r_t1', 'state'): 3141, ('county', 'affiliate_r_t2', 'state'): 3141, ('county', 'affiliate_r_t3', 'state'): 3141, ('county', 'affiliate_r_t4', 'state'): 3141, ('county', 'affiliate_r_t5', 'state'): 3141, ('county', 'affiliate_r_t6', 'state'): 3141, ('county', 'nearby_county_t0', 'county'): 22176, ('county', 'nearby_county_t1', 'county'): 22176, ('county', 'nearby_county_t2', 'county'): 22176, ('county', 'nearby_county_t3', 'county'): 22176, ('county', 'nearby_county_t4', 'county'): 22176, ('county', 'nearby_county_t5', 'county'): 22176, ('county', 'nearby_county_t6', 'county'): 22176, ('state', 'affiliate_t0', 'county'): 3141, ('state', 'affiliate_t1', 'county'): 3141, ('state', 'affiliate_t2', 'county'): 3141, ('state', 'affiliate_t3', 'county'): 3141, ('state', 'affiliate_t4', 'county'): 3141, ('state', 'affiliate_t5', 'county'): 3141, ('state', 'affiliate_t6', 'county'): 3141, ('state', 'nearby_state_t0', 'state'): 269, ('state', 'nearby_state_t1', 'state'): 269, ('state', 'nearby_state_t2', 'state'): 269, ('state', 'nearby_state_t3', 'state'): 269, ('state', 'nearby_state_t4', 'state'): 269, ('state', 'nearby_state_t5', 'state'): 269, ('state', 'nearby_state_t6', 'state'): 269},\n",
       "      metagraph=[('county', 'state', 'affiliate_r_t0'), ('county', 'state', 'affiliate_r_t1'), ('county', 'state', 'affiliate_r_t2'), ('county', 'state', 'affiliate_r_t3'), ('county', 'state', 'affiliate_r_t4'), ('county', 'state', 'affiliate_r_t5'), ('county', 'state', 'affiliate_r_t6'), ('county', 'county', 'nearby_county_t0'), ('county', 'county', 'nearby_county_t1'), ('county', 'county', 'nearby_county_t2'), ('county', 'county', 'nearby_county_t3'), ('county', 'county', 'nearby_county_t4'), ('county', 'county', 'nearby_county_t5'), ('county', 'county', 'nearby_county_t6'), ('state', 'county', 'affiliate_t0'), ('state', 'county', 'affiliate_t1'), ('state', 'county', 'affiliate_t2'), ('state', 'county', 'affiliate_t3'), ('state', 'county', 'affiliate_t4'), ('state', 'county', 'affiliate_t5'), ('state', 'county', 'affiliate_t6'), ('state', 'state', 'nearby_state_t0'), ('state', 'state', 'nearby_state_t1'), ('state', 'state', 'nearby_state_t2'), ('state', 'state', 'nearby_state_t3'), ('state', 'state', 'nearby_state_t4'), ('state', 'state', 'nearby_state_t5'), ('state', 'state', 'nearby_state_t6')])"
      ]
     },
     "execution_count": 5,
     "metadata": {},
     "output_type": "execute_result"
    }
   ],
   "source": [
    "train_feats[0]"
   ]
  },
  {
   "cell_type": "code",
   "execution_count": 7,
   "metadata": {},
   "outputs": [
    {
     "data": {
      "text/plain": [
       "<All keys matched successfully>"
      ]
     },
     "execution_count": 7,
     "metadata": {},
     "output_type": "execute_result"
    }
   ],
   "source": [
    "time_window = 7\n",
    "device = 'cuda:0'\n",
    "graph_atom = test_feats[0]\n",
    "htgnn = HTGNN(graph=graph_atom, n_inp=1, n_hid=8, n_layers=2, n_heads=1, time_window=time_window, norm=False, device=device)\n",
    "predictor = NodePredictor(n_inp=8, n_classes=1)\n",
    "model = nn.Sequential(htgnn, predictor).to(device)\n",
    "model.load_state_dict(torch.load('/home/jiazhengli/xdgnn/HTGNN/output/COVID19/checkpoint_HTGNN_0.pt'))"
   ]
  },
  {
   "cell_type": "code",
   "execution_count": 11,
   "metadata": {},
   "outputs": [],
   "source": [
    "h = model[0](sg.to(device),'state')"
   ]
  },
  {
   "cell_type": "code",
   "execution_count": 27,
   "metadata": {},
   "outputs": [
    {
     "data": {
      "text/plain": [
       "(tensor([1, 2]), tensor([1, 1]), tensor([0, 1]))"
      ]
     },
     "execution_count": 27,
     "metadata": {},
     "output_type": "execute_result"
    }
   ],
   "source": [
    "g = dgl.heterograph({\n",
    "    ('user', 'plays', 'game'): (torch.tensor([0, 1, 1, 2]),\n",
    "                                torch.tensor([0, 0, 1, 1])),\n",
    "    ('developer', 'develops', 'game'): (torch.tensor([0, 1]),\n",
    "                                        torch.tensor([0, 1]))\n",
    "    })\n",
    "g = dgl.remove_edges(g, torch.tensor([0, 1]), 'plays',store_ids=True)\n",
    "g.edges('all', etype='plays')"
   ]
  },
  {
   "cell_type": "code",
   "execution_count": 29,
   "metadata": {},
   "outputs": [
    {
     "data": {
      "text/plain": [
       "4"
      ]
     },
     "execution_count": 29,
     "metadata": {},
     "output_type": "execute_result"
    }
   ],
   "source": [
    "g.num_edges()"
   ]
  },
  {
   "cell_type": "code",
   "execution_count": 28,
   "metadata": {},
   "outputs": [
    {
     "data": {
      "text/plain": [
       "{('developer', 'develops', 'game'): tensor([0, 1]),\n",
       " ('user', 'plays', 'game'): tensor([2, 3])}"
      ]
     },
     "execution_count": 28,
     "metadata": {},
     "output_type": "execute_result"
    }
   ],
   "source": [
    "g.edata[dgl.EID]"
   ]
  },
  {
   "cell_type": "code",
   "execution_count": null,
   "metadata": {},
   "outputs": [],
   "source": []
  }
 ],
 "metadata": {
  "kernelspec": {
   "display_name": "pyg",
   "language": "python",
   "name": "python3"
  },
  "language_info": {
   "codemirror_mode": {
    "name": "ipython",
    "version": 3
   },
   "file_extension": ".py",
   "mimetype": "text/x-python",
   "name": "python",
   "nbconvert_exporter": "python",
   "pygments_lexer": "ipython3",
   "version": "3.9.15"
  },
  "orig_nbformat": 4,
  "vscode": {
   "interpreter": {
    "hash": "a66aa02838514fbc904134e91c9f2bd069f57bbfd3c8575f22a42ec4d15b27de"
   }
  }
 },
 "nbformat": 4,
 "nbformat_minor": 2
}
