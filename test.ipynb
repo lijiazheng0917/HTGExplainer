{
 "cells": [
  {
   "cell_type": "code",
   "execution_count": 1,
   "metadata": {},
   "outputs": [
    {
     "name": "stderr",
     "output_type": "stream",
     "text": [
      "/home/jiazhengli/anaconda3/envs/pt/lib/python3.9/site-packages/tqdm/auto.py:22: TqdmWarning: IProgress not found. Please update jupyter and ipywidgets. See https://ipywidgets.readthedocs.io/en/stable/user_install.html\n",
      "  from .autonotebook import tqdm as notebook_tqdm\n"
     ]
    }
   ],
   "source": [
    "import dgl\n",
    "from dgl.data.utils import load_graphs\n",
    "\n",
    "import torch\n",
    "import torch.nn as nn\n",
    "import torch.nn.functional as F\n",
    "import numpy as np\n",
    "import random\n",
    "import pandas as pd\n",
    "\n",
    "from model.model import HTGNN, NodePredictor\n",
    "from utils.pytorchtools import EarlyStopping\n",
    "from utils.data import load_COVID_data, load_MAG_data\n",
    "\n",
    "dgl.seed(0)\n",
    "np.random.seed(0)\n",
    "torch.manual_seed(0)\n",
    "torch.cuda.manual_seed(0)\n",
    "torch.cuda.manual_seed_all(0)"
   ]
  },
  {
   "cell_type": "code",
   "execution_count": 8,
   "metadata": {},
   "outputs": [],
   "source": [
    "original_pred = torch.tensor([1.,2.,3.,4.])\n",
    "masked_pred = torch.tensor([3.,2.,5.,8.])"
   ]
  },
  {
   "cell_type": "code",
   "execution_count": 9,
   "metadata": {},
   "outputs": [],
   "source": [
    "mseloss = nn.MSELoss()\n",
    "l1 = F.l1_loss(original_pred, masked_pred)\n",
    "l2 = torch.sqrt(mseloss(original_pred, masked_pred))"
   ]
  },
  {
   "cell_type": "code",
   "execution_count": 3,
   "metadata": {},
   "outputs": [
    {
     "data": {
      "text/plain": [
       "2.5"
      ]
     },
     "execution_count": 3,
     "metadata": {},
     "output_type": "execute_result"
    }
   ],
   "source": [
    "np.mean([1,2,3,4])"
   ]
  },
  {
   "cell_type": "code",
   "execution_count": 5,
   "metadata": {},
   "outputs": [
    {
     "data": {
      "text/plain": [
       "tensor(2.)"
      ]
     },
     "execution_count": 5,
     "metadata": {},
     "output_type": "execute_result"
    }
   ],
   "source": [
    "F.l1_loss(a,b)"
   ]
  },
  {
   "cell_type": "code",
   "execution_count": 7,
   "metadata": {},
   "outputs": [
    {
     "data": {
      "text/plain": [
       "tensor(2.4495)"
      ]
     },
     "execution_count": 7,
     "metadata": {},
     "output_type": "execute_result"
    }
   ],
   "source": [
    "mseloss= nn.MSELoss()\n",
    "mse = mseloss(a,b)\n",
    "torch.sqrt(mse)"
   ]
  },
  {
   "cell_type": "code",
   "execution_count": 2,
   "metadata": {},
   "outputs": [],
   "source": [
    "glist, label_dict = load_graphs('/home/jiazhengli/xdgnn/HTGNN/acm_graph.bin')"
   ]
  },
  {
   "cell_type": "code",
   "execution_count": null,
   "metadata": {},
   "outputs": [],
   "source": []
  },
  {
   "cell_type": "code",
   "execution_count": 2,
   "metadata": {},
   "outputs": [],
   "source": [
    "glist, label_dict = load_graphs('data/ogbn_graphs.bin')"
   ]
  },
  {
   "cell_type": "code",
   "execution_count": 10,
   "metadata": {},
   "outputs": [
    {
     "name": "stdout",
     "output_type": "stream",
     "text": [
      "loading mp2vec\n",
      "generating train, val, test sets \n"
     ]
    }
   ],
   "source": [
    "glist, label_dict = load_graphs('data/ogbn_graphs.bin')\n",
    "device = torch.device('cuda')\n",
    "time_window = 3\n",
    "\n",
    "train_feats, train_labels, val_feats, val_labels, test_feats, test_labels = load_MAG_data(glist, time_window, device)\n"
   ]
  },
  {
   "cell_type": "code",
   "execution_count": 21,
   "metadata": {},
   "outputs": [
    {
     "data": {
      "text/plain": [
       "Graph(num_nodes={'author': 17764, 'field_of_study': 22866, 'institution': 2276, 'paper': 86186},\n",
       "      num_edges={('author', 'affiliated_with_t0', 'institution'): 40307, ('author', 'affiliated_with_t1', 'institution'): 40307, ('author', 'affiliated_with_t2', 'institution'): 40307, ('author', 'writes_t0', 'paper'): 101109, ('author', 'writes_t1', 'paper'): 130156, ('author', 'writes_t2', 'paper'): 200760, ('field_of_study', 'has_topic_r_t0', 'paper'): 285074, ('field_of_study', 'has_topic_r_t1', 'paper'): 299817, ('field_of_study', 'has_topic_r_t2', 'paper'): 318040, ('institution', 'affiliated_with_r_t0', 'author'): 40307, ('institution', 'affiliated_with_r_t1', 'author'): 40307, ('institution', 'affiliated_with_r_t2', 'author'): 40307, ('paper', 'cites_r_t0', 'paper'): 19926, ('paper', 'cites_r_t1', 'paper'): 21276, ('paper', 'cites_r_t2', 'paper'): 24575, ('paper', 'cites_t0', 'paper'): 19926, ('paper', 'cites_t1', 'paper'): 21276, ('paper', 'cites_t2', 'paper'): 24575, ('paper', 'has_topic_t0', 'field_of_study'): 285074, ('paper', 'has_topic_t1', 'field_of_study'): 299817, ('paper', 'has_topic_t2', 'field_of_study'): 318040, ('paper', 'writes_r_t0', 'author'): 101109, ('paper', 'writes_r_t1', 'author'): 130156, ('paper', 'writes_r_t2', 'author'): 200760},\n",
       "      metagraph=[('author', 'institution', 'affiliated_with_t0'), ('author', 'institution', 'affiliated_with_t1'), ('author', 'institution', 'affiliated_with_t2'), ('author', 'paper', 'writes_t0'), ('author', 'paper', 'writes_t1'), ('author', 'paper', 'writes_t2'), ('institution', 'author', 'affiliated_with_r_t0'), ('institution', 'author', 'affiliated_with_r_t1'), ('institution', 'author', 'affiliated_with_r_t2'), ('paper', 'paper', 'cites_r_t0'), ('paper', 'paper', 'cites_r_t1'), ('paper', 'paper', 'cites_r_t2'), ('paper', 'paper', 'cites_t0'), ('paper', 'paper', 'cites_t1'), ('paper', 'paper', 'cites_t2'), ('paper', 'field_of_study', 'has_topic_t0'), ('paper', 'field_of_study', 'has_topic_t1'), ('paper', 'field_of_study', 'has_topic_t2'), ('paper', 'author', 'writes_r_t0'), ('paper', 'author', 'writes_r_t1'), ('paper', 'author', 'writes_r_t2'), ('field_of_study', 'paper', 'has_topic_r_t0'), ('field_of_study', 'paper', 'has_topic_r_t1'), ('field_of_study', 'paper', 'has_topic_r_t2')])"
      ]
     },
     "execution_count": 21,
     "metadata": {},
     "output_type": "execute_result"
    }
   ],
   "source": [
    "train_feats[0]"
   ]
  },
  {
   "cell_type": "code",
   "execution_count": 19,
   "metadata": {},
   "outputs": [
    {
     "data": {
      "text/plain": [
       "{'author': tensor([[-0.3462, -0.7368, -0.1895,  ..., -0.4297,  0.5344,  0.1376],\n",
       "         [ 0.1640, -0.2393,  0.4055,  ..., -0.0537,  0.0109,  0.0777],\n",
       "         [ 0.3127, -0.0188,  0.2037,  ...,  0.3168, -0.4902,  0.7343],\n",
       "         ...,\n",
       "         [ 0.1556,  0.0476,  0.1873,  ...,  0.5120, -0.1914,  0.2530],\n",
       "         [ 0.6975, -0.3847, -0.0367,  ..., -0.0240,  0.6860, -0.4370],\n",
       "         [ 0.5069, -0.9206,  0.5064,  ..., -0.0856,  0.2594,  0.7022]]),\n",
       " 'field_of_study': tensor([[-0.1983, -0.1398, -0.9528,  ...,  0.6425, -0.7199, -0.1190],\n",
       "         [ 0.4992, -0.1825, -0.5634,  ..., -0.2716, -0.2596, -0.5283],\n",
       "         [ 0.1161, -0.9553, -0.5342,  ...,  0.5143,  0.8805,  0.6736],\n",
       "         ...,\n",
       "         [ 0.3607,  0.1622,  0.0878,  ...,  0.4886,  0.4765,  0.3659],\n",
       "         [ 0.0000,  0.0000,  0.0000,  ...,  0.0000,  0.0000,  0.0000],\n",
       "         [ 0.4505, -0.9270,  0.4386,  ..., -0.1139,  0.2695,  0.7066]]),\n",
       " 'institution': tensor([[ 0.7366,  0.0565, -0.9512,  ...,  0.0396,  0.2451,  0.3114],\n",
       "         [ 0.1954, -0.5988, -0.1284,  ...,  0.4015,  0.2246,  0.0755],\n",
       "         [ 0.4314, -0.4711,  0.1847,  ..., -0.2293,  0.0272,  0.0033],\n",
       "         ...,\n",
       "         [ 0.2142, -0.1996, -0.1010,  ...,  0.0745, -0.1771,  0.5646],\n",
       "         [ 0.4949, -0.5594, -0.2747,  ..., -0.3305, -0.0584,  0.2615],\n",
       "         [ 0.4775, -0.8557,  0.4286,  ..., -0.0939,  0.2066,  0.6975]]),\n",
       " 'paper': tensor([[ 0.0000,  0.0000,  0.0000,  ...,  0.0000,  0.0000,  0.0000],\n",
       "         [ 0.0045,  0.0424, -0.1785,  ...,  0.2822,  0.0163, -0.2127],\n",
       "         [-0.0617, -0.0357, -0.1496,  ...,  0.3816, -0.1013, -0.4837],\n",
       "         ...,\n",
       "         [ 0.0000,  0.0000,  0.0000,  ...,  0.0000,  0.0000,  0.0000],\n",
       "         [ 0.0000,  0.0000,  0.0000,  ...,  0.0000,  0.0000,  0.0000],\n",
       "         [-0.2796, -0.1813, -0.2218,  ...,  0.0143,  0.1500, -0.2102]])}"
      ]
     },
     "execution_count": 19,
     "metadata": {},
     "output_type": "execute_result"
    }
   ],
   "source": [
    "train_feats[0].ndata['t0']"
   ]
  },
  {
   "cell_type": "code",
   "execution_count": null,
   "metadata": {},
   "outputs": [],
   "source": []
  },
  {
   "cell_type": "code",
   "execution_count": null,
   "metadata": {},
   "outputs": [],
   "source": []
  },
  {
   "cell_type": "code",
   "execution_count": null,
   "metadata": {},
   "outputs": [],
   "source": []
  },
  {
   "cell_type": "code",
   "execution_count": 54,
   "metadata": {},
   "outputs": [],
   "source": [
    "device = torch.device('cuda')\n",
    "glist, _ = load_graphs('data/covid_graphs.bin')\n",
    "time_window = 7\n",
    "\n",
    "train_feats, train_labels, val_feats, val_labels, test_feats, test_labels = load_COVID_data(glist, time_window)\n"
   ]
  },
  {
   "cell_type": "code",
   "execution_count": 56,
   "metadata": {},
   "outputs": [
    {
     "data": {
      "text/plain": [
       "Graph(num_nodes={'county': 3223, 'state': 51},\n",
       "      num_edges={('county', 'affiliate_r', 'state'): 3141, ('county', 'nearby_county', 'county'): 22176, ('state', 'affiliate', 'county'): 3141, ('state', 'nearby_state', 'state'): 269},\n",
       "      metagraph=[('county', 'state', 'affiliate_r'), ('county', 'county', 'nearby_county'), ('state', 'county', 'affiliate'), ('state', 'state', 'nearby_state')])"
      ]
     },
     "execution_count": 56,
     "metadata": {},
     "output_type": "execute_result"
    }
   ],
   "source": [
    "glist[0]"
   ]
  },
  {
   "cell_type": "code",
   "execution_count": 9,
   "metadata": {},
   "outputs": [
    {
     "data": {
      "text/plain": [
       "tensor([ 0,  1,  2,  3,  4,  5,  6,  7,  8,  9, 10, 11, 12, 13, 14, 15, 16, 17,\n",
       "        18, 19, 20, 21, 22, 23, 24, 25, 26, 27, 28, 29, 30, 31, 32, 33, 34, 35,\n",
       "        36, 37, 38, 39, 40, 41, 42, 43, 44, 45, 46, 47, 48, 49, 50],\n",
       "       dtype=torch.int32)"
      ]
     },
     "execution_count": 9,
     "metadata": {},
     "output_type": "execute_result"
    }
   ],
   "source": [
    "train_feats[0].nodes('state')"
   ]
  },
  {
   "cell_type": "code",
   "execution_count": 3,
   "metadata": {},
   "outputs": [],
   "source": [
    "sg, inverse_indices = dgl.khop_in_subgraph(train_feats[0], {'state': 2}, k=2, store_ids=True)"
   ]
  },
  {
   "cell_type": "code",
   "execution_count": 5,
   "metadata": {},
   "outputs": [
    {
     "data": {
      "text/plain": [
       "13377"
      ]
     },
     "execution_count": 5,
     "metadata": {},
     "output_type": "execute_result"
    }
   ],
   "source": [
    "sg.num_edges()"
   ]
  },
  {
   "cell_type": "code",
   "execution_count": 6,
   "metadata": {},
   "outputs": [],
   "source": [
    "sg, inverse_indices = dgl.khop_in_subgraph(train_feats[0], {'state': [1,2]}, k=2, store_ids=True)"
   ]
  },
  {
   "cell_type": "code",
   "execution_count": 14,
   "metadata": {},
   "outputs": [],
   "source": [
    "dic = {}\n",
    "z = 0\n",
    "# k = 0 \n",
    "for stype, etype, dtype in sg.canonical_etypes:\n",
    "    k = sg[stype, etype, dtype].number_of_edges()\n",
    "    # k = sg[stype, etype, dtype].number_of_edges()\n",
    "    dic[etype] = (z,z + k)\n",
    "    z += k\n"
   ]
  },
  {
   "cell_type": "code",
   "execution_count": 15,
   "metadata": {},
   "outputs": [
    {
     "data": {
      "text/plain": [
       "{'affiliate_r_t0': (0, 29),\n",
       " 'affiliate_r_t1': (29, 58),\n",
       " 'affiliate_r_t2': (58, 87),\n",
       " 'affiliate_r_t3': (87, 116),\n",
       " 'affiliate_r_t4': (116, 145),\n",
       " 'affiliate_r_t5': (145, 174),\n",
       " 'affiliate_r_t6': (174, 203),\n",
       " 'nearby_county_t0': (203, 334),\n",
       " 'nearby_county_t1': (334, 465),\n",
       " 'nearby_county_t2': (465, 596),\n",
       " 'nearby_county_t3': (596, 727),\n",
       " 'nearby_county_t4': (727, 858),\n",
       " 'nearby_county_t5': (858, 989),\n",
       " 'nearby_county_t6': (989, 1120),\n",
       " 'affiliate_t0': (1120, 1149),\n",
       " 'affiliate_t1': (1149, 1178),\n",
       " 'affiliate_t2': (1178, 1207),\n",
       " 'affiliate_t3': (1207, 1236),\n",
       " 'affiliate_t4': (1236, 1265),\n",
       " 'affiliate_t5': (1265, 1294),\n",
       " 'affiliate_t6': (1294, 1323),\n",
       " 'nearby_state_t0': (1323, 1324),\n",
       " 'nearby_state_t1': (1324, 1325),\n",
       " 'nearby_state_t2': (1325, 1326),\n",
       " 'nearby_state_t3': (1326, 1327),\n",
       " 'nearby_state_t4': (1327, 1328),\n",
       " 'nearby_state_t5': (1328, 1329),\n",
       " 'nearby_state_t6': (1329, 1330)}"
      ]
     },
     "execution_count": 15,
     "metadata": {},
     "output_type": "execute_result"
    }
   ],
   "source": [
    "dic"
   ]
  },
  {
   "cell_type": "code",
   "execution_count": 25,
   "metadata": {},
   "outputs": [],
   "source": [
    "c = {type:0 for type in sg.etypes}"
   ]
  },
  {
   "cell_type": "code",
   "execution_count": 27,
   "metadata": {},
   "outputs": [
    {
     "data": {
      "text/plain": [
       "(tensor([1, 2]), tensor([1, 1]), tensor([0, 1]))"
      ]
     },
     "execution_count": 27,
     "metadata": {},
     "output_type": "execute_result"
    }
   ],
   "source": [
    "g = dgl.heterograph({\n",
    "    ('user', 'plays', 'game'): (torch.tensor([0, 1, 1, 2]),\n",
    "                                torch.tensor([0, 0, 1, 1])),\n",
    "    ('developer', 'develops', 'game'): (torch.tensor([0, 1]),\n",
    "                                        torch.tensor([0, 1]))\n",
    "    })\n",
    "g = dgl.remove_edges(g, torch.tensor([0, 1]), 'plays',store_ids=True)\n",
    "g.edges('all', etype='plays')"
   ]
  },
  {
   "cell_type": "code",
   "execution_count": 29,
   "metadata": {},
   "outputs": [
    {
     "data": {
      "text/plain": [
       "4"
      ]
     },
     "execution_count": 29,
     "metadata": {},
     "output_type": "execute_result"
    }
   ],
   "source": [
    "g.num_edges()"
   ]
  },
  {
   "cell_type": "code",
   "execution_count": 28,
   "metadata": {},
   "outputs": [
    {
     "data": {
      "text/plain": [
       "{('developer', 'develops', 'game'): tensor([0, 1]),\n",
       " ('user', 'plays', 'game'): tensor([2, 3])}"
      ]
     },
     "execution_count": 28,
     "metadata": {},
     "output_type": "execute_result"
    }
   ],
   "source": [
    "g.edata[dgl.EID]"
   ]
  },
  {
   "cell_type": "code",
   "execution_count": null,
   "metadata": {},
   "outputs": [],
   "source": []
  },
  {
   "cell_type": "code",
   "execution_count": null,
   "metadata": {},
   "outputs": [],
   "source": []
  },
  {
   "cell_type": "code",
   "execution_count": null,
   "metadata": {},
   "outputs": [],
   "source": []
  },
  {
   "attachments": {},
   "cell_type": "markdown",
   "metadata": {},
   "source": [
    "# GNNExplainer"
   ]
  },
  {
   "cell_type": "code",
   "execution_count": 2,
   "metadata": {},
   "outputs": [
    {
     "name": "stdout",
     "output_type": "stream",
     "text": [
      "Downloading /home/jiazhengli/.dgl/cora_v2.zip from https://data.dgl.ai/dataset/cora_v2.zip...\n",
      "Extracting file to /home/jiazhengli/.dgl/cora_v2\n",
      "Finished data loading and preprocessing.\n",
      "  NumNodes: 2708\n",
      "  NumEdges: 10556\n",
      "  NumFeats: 1433\n",
      "  NumClasses: 7\n",
      "  NumTrainingSamples: 140\n",
      "  NumValidationSamples: 500\n",
      "  NumTestSamples: 1000\n",
      "Done saving data into cached files.\n"
     ]
    }
   ],
   "source": [
    "dataset = dgl.data.CoraGraphDataset()"
   ]
  },
  {
   "cell_type": "code",
   "execution_count": 13,
   "metadata": {},
   "outputs": [
    {
     "data": {
      "text/plain": [
       "torch.Size([2708, 1433])"
      ]
     },
     "execution_count": 13,
     "metadata": {},
     "output_type": "execute_result"
    }
   ],
   "source": [
    "dataset[0].ndata['feat'].float()"
   ]
  },
  {
   "cell_type": "code",
   "execution_count": 57,
   "metadata": {},
   "outputs": [],
   "source": [
    "device = torch.device('cuda')\n",
    "glist, _ = load_graphs('data/covid_graphs.bin')\n",
    "time_window = 7\n",
    "\n",
    "train_feats, train_labels, val_feats, val_labels, test_feats, test_labels = load_COVID_data(glist, time_window)"
   ]
  },
  {
   "cell_type": "code",
   "execution_count": 58,
   "metadata": {},
   "outputs": [
    {
     "data": {
      "text/plain": [
       "Graph(num_nodes={'county': 3223, 'state': 51},\n",
       "      num_edges={('county', 'affiliate_r', 'state'): 3141, ('county', 'nearby_county', 'county'): 22176, ('state', 'affiliate', 'county'): 3141, ('state', 'nearby_state', 'state'): 269},\n",
       "      metagraph=[('county', 'state', 'affiliate_r'), ('county', 'county', 'nearby_county'), ('state', 'county', 'affiliate'), ('state', 'state', 'nearby_state')])"
      ]
     },
     "execution_count": 58,
     "metadata": {},
     "output_type": "execute_result"
    }
   ],
   "source": [
    "glist[0]"
   ]
  },
  {
   "cell_type": "code",
   "execution_count": 59,
   "metadata": {},
   "outputs": [
    {
     "data": {
      "text/plain": [
       "Graph(num_nodes={'county': 3223, 'state': 51},\n",
       "      num_edges={('county', 'affiliate_r', 'state'): 3141, ('county', 'nearby_county', 'county'): 22176, ('state', 'affiliate', 'county'): 3141, ('state', 'nearby_state', 'state'): 269},\n",
       "      metagraph=[('county', 'state', 'affiliate_r'), ('county', 'county', 'nearby_county'), ('state', 'county', 'affiliate'), ('state', 'state', 'nearby_state')])"
      ]
     },
     "execution_count": 59,
     "metadata": {},
     "output_type": "execute_result"
    }
   ],
   "source": [
    "glist[1]"
   ]
  },
  {
   "cell_type": "code",
   "execution_count": 18,
   "metadata": {},
   "outputs": [
    {
     "data": {
      "text/plain": [
       "Graph(num_nodes={'county': 3223, 'state': 51},\n",
       "      num_edges={('county', 'affiliate_r_t0', 'state'): 3141, ('county', 'affiliate_r_t1', 'state'): 3141, ('county', 'affiliate_r_t2', 'state'): 3141, ('county', 'affiliate_r_t3', 'state'): 3141, ('county', 'affiliate_r_t4', 'state'): 3141, ('county', 'affiliate_r_t5', 'state'): 3141, ('county', 'affiliate_r_t6', 'state'): 3141, ('county', 'nearby_county_t0', 'county'): 22176, ('county', 'nearby_county_t1', 'county'): 22176, ('county', 'nearby_county_t2', 'county'): 22176, ('county', 'nearby_county_t3', 'county'): 22176, ('county', 'nearby_county_t4', 'county'): 22176, ('county', 'nearby_county_t5', 'county'): 22176, ('county', 'nearby_county_t6', 'county'): 22176, ('state', 'affiliate_t0', 'county'): 3141, ('state', 'affiliate_t1', 'county'): 3141, ('state', 'affiliate_t2', 'county'): 3141, ('state', 'affiliate_t3', 'county'): 3141, ('state', 'affiliate_t4', 'county'): 3141, ('state', 'affiliate_t5', 'county'): 3141, ('state', 'affiliate_t6', 'county'): 3141, ('state', 'nearby_state_t0', 'state'): 269, ('state', 'nearby_state_t1', 'state'): 269, ('state', 'nearby_state_t2', 'state'): 269, ('state', 'nearby_state_t3', 'state'): 269, ('state', 'nearby_state_t4', 'state'): 269, ('state', 'nearby_state_t5', 'state'): 269, ('state', 'nearby_state_t6', 'state'): 269},\n",
       "      metagraph=[('county', 'state', 'affiliate_r_t0'), ('county', 'state', 'affiliate_r_t1'), ('county', 'state', 'affiliate_r_t2'), ('county', 'state', 'affiliate_r_t3'), ('county', 'state', 'affiliate_r_t4'), ('county', 'state', 'affiliate_r_t5'), ('county', 'state', 'affiliate_r_t6'), ('county', 'county', 'nearby_county_t0'), ('county', 'county', 'nearby_county_t1'), ('county', 'county', 'nearby_county_t2'), ('county', 'county', 'nearby_county_t3'), ('county', 'county', 'nearby_county_t4'), ('county', 'county', 'nearby_county_t5'), ('county', 'county', 'nearby_county_t6'), ('state', 'county', 'affiliate_t0'), ('state', 'county', 'affiliate_t1'), ('state', 'county', 'affiliate_t2'), ('state', 'county', 'affiliate_t3'), ('state', 'county', 'affiliate_t4'), ('state', 'county', 'affiliate_t5'), ('state', 'county', 'affiliate_t6'), ('state', 'state', 'nearby_state_t0'), ('state', 'state', 'nearby_state_t1'), ('state', 'state', 'nearby_state_t2'), ('state', 'state', 'nearby_state_t3'), ('state', 'state', 'nearby_state_t4'), ('state', 'state', 'nearby_state_t5'), ('state', 'state', 'nearby_state_t6')])"
      ]
     },
     "execution_count": 18,
     "metadata": {},
     "output_type": "execute_result"
    }
   ],
   "source": [
    "g = test_feats[0]\n",
    "g"
   ]
  },
  {
   "cell_type": "code",
   "execution_count": null,
   "metadata": {},
   "outputs": [],
   "source": []
  },
  {
   "cell_type": "code",
   "execution_count": 40,
   "metadata": {},
   "outputs": [
    {
     "data": {
      "text/plain": [
       "torch.Size([3223, 1])"
      ]
     },
     "execution_count": 40,
     "metadata": {},
     "output_type": "execute_result"
    }
   ],
   "source": [
    "g.ndata['t0']['county'].shape"
   ]
  },
  {
   "cell_type": "code",
   "execution_count": 46,
   "metadata": {},
   "outputs": [
    {
     "data": {
      "text/plain": [
       "['county', 'state']"
      ]
     },
     "execution_count": 46,
     "metadata": {},
     "output_type": "execute_result"
    }
   ],
   "source": [
    "g.ntypes"
   ]
  },
  {
   "cell_type": "code",
   "execution_count": 42,
   "metadata": {},
   "outputs": [
    {
     "data": {
      "text/plain": [
       "[('county', 'affiliate_r_t0', 'state'),\n",
       " ('county', 'affiliate_r_t1', 'state'),\n",
       " ('county', 'affiliate_r_t2', 'state'),\n",
       " ('county', 'affiliate_r_t3', 'state'),\n",
       " ('county', 'affiliate_r_t4', 'state'),\n",
       " ('county', 'affiliate_r_t5', 'state'),\n",
       " ('county', 'affiliate_r_t6', 'state'),\n",
       " ('county', 'nearby_county_t0', 'county'),\n",
       " ('county', 'nearby_county_t1', 'county'),\n",
       " ('county', 'nearby_county_t2', 'county'),\n",
       " ('county', 'nearby_county_t3', 'county'),\n",
       " ('county', 'nearby_county_t4', 'county'),\n",
       " ('county', 'nearby_county_t5', 'county'),\n",
       " ('county', 'nearby_county_t6', 'county'),\n",
       " ('state', 'affiliate_t0', 'county'),\n",
       " ('state', 'affiliate_t1', 'county'),\n",
       " ('state', 'affiliate_t2', 'county'),\n",
       " ('state', 'affiliate_t3', 'county'),\n",
       " ('state', 'affiliate_t4', 'county'),\n",
       " ('state', 'affiliate_t5', 'county'),\n",
       " ('state', 'affiliate_t6', 'county'),\n",
       " ('state', 'nearby_state_t0', 'state'),\n",
       " ('state', 'nearby_state_t1', 'state'),\n",
       " ('state', 'nearby_state_t2', 'state'),\n",
       " ('state', 'nearby_state_t3', 'state'),\n",
       " ('state', 'nearby_state_t4', 'state'),\n",
       " ('state', 'nearby_state_t5', 'state'),\n",
       " ('state', 'nearby_state_t6', 'state')]"
      ]
     },
     "execution_count": 42,
     "metadata": {},
     "output_type": "execute_result"
    }
   ],
   "source": [
    "g.canonical_etypes"
   ]
  },
  {
   "cell_type": "code",
   "execution_count": 19,
   "metadata": {},
   "outputs": [
    {
     "data": {
      "text/plain": [
       "Graph(num_nodes=3274, num_edges=201089,\n",
       "      ndata_schemes={'_ID': Scheme(shape=(), dtype=torch.int32), '_TYPE': Scheme(shape=(), dtype=torch.int64)}\n",
       "      edata_schemes={'_ID': Scheme(shape=(), dtype=torch.int32), '_TYPE': Scheme(shape=(), dtype=torch.int64)})"
      ]
     },
     "execution_count": 19,
     "metadata": {},
     "output_type": "execute_result"
    }
   ],
   "source": [
    "hg = dgl.to_homogeneous(g)\n",
    "hg"
   ]
  },
  {
   "cell_type": "code",
   "execution_count": 38,
   "metadata": {},
   "outputs": [
    {
     "data": {
      "text/plain": [
       "tensor([0, 0, 0,  ..., 1, 1, 1])"
      ]
     },
     "execution_count": 38,
     "metadata": {},
     "output_type": "execute_result"
    }
   ],
   "source": [
    "hg.ndata[dgl.NTYPE]"
   ]
  },
  {
   "cell_type": "code",
   "execution_count": null,
   "metadata": {},
   "outputs": [],
   "source": []
  },
  {
   "cell_type": "code",
   "execution_count": null,
   "metadata": {},
   "outputs": [],
   "source": []
  },
  {
   "cell_type": "code",
   "execution_count": null,
   "metadata": {},
   "outputs": [],
   "source": []
  },
  {
   "attachments": {},
   "cell_type": "markdown",
   "metadata": {},
   "source": [
    "# New dataset"
   ]
  },
  {
   "cell_type": "code",
   "execution_count": 63,
   "metadata": {},
   "outputs": [
    {
     "name": "stdout",
     "output_type": "stream",
     "text": [
      "Downloading http://snap.stanford.edu/ogb/data/linkproppred/collab.zip\n"
     ]
    },
    {
     "name": "stderr",
     "output_type": "stream",
     "text": [
      "Downloaded 0.11 GB: 100%|██████████| 117/117 [00:09<00:00, 11.81it/s]\n"
     ]
    },
    {
     "name": "stdout",
     "output_type": "stream",
     "text": [
      "Extracting dataset/collab.zip\n",
      "Loading necessary files...\n",
      "This might take a while.\n",
      "Processing graphs...\n"
     ]
    },
    {
     "name": "stderr",
     "output_type": "stream",
     "text": [
      "100%|██████████| 1/1 [00:00<00:00, 44.89it/s]\n"
     ]
    },
    {
     "name": "stdout",
     "output_type": "stream",
     "text": [
      "Converting graphs into DGL objects...\n"
     ]
    },
    {
     "name": "stderr",
     "output_type": "stream",
     "text": [
      "100%|██████████| 1/1 [00:00<00:00, 412.66it/s]"
     ]
    },
    {
     "name": "stdout",
     "output_type": "stream",
     "text": [
      "Saving...\n"
     ]
    },
    {
     "name": "stderr",
     "output_type": "stream",
     "text": [
      "\n"
     ]
    }
   ],
   "source": [
    "from ogb.linkproppred import DglLinkPropPredDataset\n",
    "\n",
    "dataset = DglLinkPropPredDataset(name = 'ogbl-collab')\n",
    "\n",
    "split_edge = dataset.get_edge_split()\n",
    "train_edge, valid_edge, test_edge = split_edge[\"train\"], split_edge[\"valid\"], split_edge[\"test\"]\n",
    "graph = dataset[0]"
   ]
  },
  {
   "cell_type": "code",
   "execution_count": 64,
   "metadata": {},
   "outputs": [
    {
     "data": {
      "text/plain": [
       "Graph(num_nodes=235868, num_edges=2358104,\n",
       "      ndata_schemes={'feat': Scheme(shape=(128,), dtype=torch.float32)}\n",
       "      edata_schemes={'year': Scheme(shape=(1,), dtype=torch.int64), 'weight': Scheme(shape=(1,), dtype=torch.int64)})"
      ]
     },
     "execution_count": 64,
     "metadata": {},
     "output_type": "execute_result"
    }
   ],
   "source": [
    "graph"
   ]
  },
  {
   "cell_type": "code",
   "execution_count": 11,
   "metadata": {},
   "outputs": [
    {
     "data": {
      "text/plain": [
       "0.8643333333333333"
      ]
     },
     "execution_count": 11,
     "metadata": {},
     "output_type": "execute_result"
    }
   ],
   "source": [
    "r = np.array([0.803 , 0.841 , 0.861 , 0.877 , 0.897 , 0.907])\n",
    "np.mean(r)"
   ]
  },
  {
   "cell_type": "code",
   "execution_count": null,
   "metadata": {},
   "outputs": [],
   "source": []
  },
  {
   "cell_type": "code",
   "execution_count": null,
   "metadata": {},
   "outputs": [],
   "source": []
  },
  {
   "attachments": {},
   "cell_type": "markdown",
   "metadata": {},
   "source": [
    "# Sentence transformer"
   ]
  },
  {
   "cell_type": "code",
   "execution_count": 1,
   "metadata": {},
   "outputs": [
    {
     "name": "stderr",
     "output_type": "stream",
     "text": [
      "/home/jiazhengli/anaconda3/envs/pt/lib/python3.9/site-packages/tqdm/auto.py:22: TqdmWarning: IProgress not found. Please update jupyter and ipywidgets. See https://ipywidgets.readthedocs.io/en/stable/user_install.html\n",
      "  from .autonotebook import tqdm as notebook_tqdm\n",
      "2023-04-21 00:07:08.698675: I tensorflow/core/util/port.cc:110] oneDNN custom operations are on. You may see slightly different numerical results due to floating-point round-off errors from different computation orders. To turn them off, set the environment variable `TF_ENABLE_ONEDNN_OPTS=0`.\n",
      "2023-04-21 00:07:08.722251: I tensorflow/core/platform/cpu_feature_guard.cc:182] This TensorFlow binary is optimized to use available CPU instructions in performance-critical operations.\n",
      "To enable the following instructions: AVX2 AVX_VNNI FMA, in other operations, rebuild TensorFlow with the appropriate compiler flags.\n",
      "2023-04-21 00:07:09.065064: W tensorflow/compiler/tf2tensorrt/utils/py_utils.cc:38] TF-TRT Warning: Could not find TensorRT\n",
      "Downloading: 100%|██████████| 1.18k/1.18k [00:00<00:00, 3.68MB/s]\n",
      "Downloading: 100%|██████████| 190/190 [00:00<00:00, 715kB/s]\n",
      "Downloading: 100%|██████████| 10.6k/10.6k [00:00<00:00, 30.4MB/s]\n",
      "Downloading: 100%|██████████| 612/612 [00:00<00:00, 1.62MB/s]\n",
      "Downloading: 100%|██████████| 116/116 [00:00<00:00, 446kB/s]\n",
      "Downloading: 100%|██████████| 39.3k/39.3k [00:00<00:00, 4.31MB/s]\n",
      "Downloading: 100%|██████████| 90.9M/90.9M [00:06<00:00, 13.6MB/s]\n",
      "Downloading: 100%|██████████| 53.0/53.0 [00:00<00:00, 187kB/s]\n",
      "Downloading: 100%|██████████| 112/112 [00:00<00:00, 419kB/s]\n",
      "Downloading: 100%|██████████| 466k/466k [00:00<00:00, 12.7MB/s]\n",
      "Downloading: 100%|██████████| 350/350 [00:00<00:00, 1.37MB/s]\n",
      "Downloading: 100%|██████████| 13.2k/13.2k [00:00<00:00, 39.9MB/s]\n",
      "Downloading: 100%|██████████| 232k/232k [00:00<00:00, 6.51MB/s]\n",
      "Downloading: 100%|██████████| 349/349 [00:00<00:00, 1.10MB/s]\n"
     ]
    }
   ],
   "source": [
    "from sentence_transformers import SentenceTransformer\n",
    "sbert_model = SentenceTransformer('all-MiniLM-L6-v2')"
   ]
  },
  {
   "cell_type": "code",
   "execution_count": 2,
   "metadata": {},
   "outputs": [],
   "source": [
    "sentences = ['i love you']"
   ]
  },
  {
   "cell_type": "code",
   "execution_count": 14,
   "metadata": {},
   "outputs": [],
   "source": [
    "sentence_embeddings = sbert_model.encode(sentences)"
   ]
  },
  {
   "cell_type": "code",
   "execution_count": 7,
   "metadata": {},
   "outputs": [],
   "source": [
    "movie_info = pd.read_csv('data/Movielens/movie_info.csv',sep='|',header=None)"
   ]
  },
  {
   "cell_type": "code",
   "execution_count": 8,
   "metadata": {},
   "outputs": [
    {
     "data": {
      "text/html": [
       "<div>\n",
       "<style scoped>\n",
       "    .dataframe tbody tr th:only-of-type {\n",
       "        vertical-align: middle;\n",
       "    }\n",
       "\n",
       "    .dataframe tbody tr th {\n",
       "        vertical-align: top;\n",
       "    }\n",
       "\n",
       "    .dataframe thead th {\n",
       "        text-align: right;\n",
       "    }\n",
       "</style>\n",
       "<table border=\"1\" class=\"dataframe\">\n",
       "  <thead>\n",
       "    <tr style=\"text-align: right;\">\n",
       "      <th></th>\n",
       "      <th>0</th>\n",
       "      <th>1</th>\n",
       "      <th>2</th>\n",
       "      <th>3</th>\n",
       "      <th>4</th>\n",
       "      <th>5</th>\n",
       "      <th>6</th>\n",
       "      <th>7</th>\n",
       "      <th>8</th>\n",
       "      <th>9</th>\n",
       "      <th>...</th>\n",
       "      <th>14</th>\n",
       "      <th>15</th>\n",
       "      <th>16</th>\n",
       "      <th>17</th>\n",
       "      <th>18</th>\n",
       "      <th>19</th>\n",
       "      <th>20</th>\n",
       "      <th>21</th>\n",
       "      <th>22</th>\n",
       "      <th>23</th>\n",
       "    </tr>\n",
       "  </thead>\n",
       "  <tbody>\n",
       "    <tr>\n",
       "      <th>0</th>\n",
       "      <td>1</td>\n",
       "      <td>Toy Story (1995)</td>\n",
       "      <td>01-Jan-1995</td>\n",
       "      <td>NaN</td>\n",
       "      <td>http://us.imdb.com/M/title-exact?Toy%20Story%2...</td>\n",
       "      <td>0</td>\n",
       "      <td>0</td>\n",
       "      <td>0</td>\n",
       "      <td>1</td>\n",
       "      <td>1</td>\n",
       "      <td>...</td>\n",
       "      <td>0</td>\n",
       "      <td>0</td>\n",
       "      <td>0</td>\n",
       "      <td>0</td>\n",
       "      <td>0</td>\n",
       "      <td>0</td>\n",
       "      <td>0</td>\n",
       "      <td>0</td>\n",
       "      <td>0</td>\n",
       "      <td>0</td>\n",
       "    </tr>\n",
       "    <tr>\n",
       "      <th>1</th>\n",
       "      <td>2</td>\n",
       "      <td>GoldenEye (1995)</td>\n",
       "      <td>01-Jan-1995</td>\n",
       "      <td>NaN</td>\n",
       "      <td>http://us.imdb.com/M/title-exact?GoldenEye%20(...</td>\n",
       "      <td>0</td>\n",
       "      <td>1</td>\n",
       "      <td>1</td>\n",
       "      <td>0</td>\n",
       "      <td>0</td>\n",
       "      <td>...</td>\n",
       "      <td>0</td>\n",
       "      <td>0</td>\n",
       "      <td>0</td>\n",
       "      <td>0</td>\n",
       "      <td>0</td>\n",
       "      <td>0</td>\n",
       "      <td>0</td>\n",
       "      <td>1</td>\n",
       "      <td>0</td>\n",
       "      <td>0</td>\n",
       "    </tr>\n",
       "    <tr>\n",
       "      <th>2</th>\n",
       "      <td>3</td>\n",
       "      <td>Four Rooms (1995)</td>\n",
       "      <td>01-Jan-1995</td>\n",
       "      <td>NaN</td>\n",
       "      <td>http://us.imdb.com/M/title-exact?Four%20Rooms%...</td>\n",
       "      <td>0</td>\n",
       "      <td>0</td>\n",
       "      <td>0</td>\n",
       "      <td>0</td>\n",
       "      <td>0</td>\n",
       "      <td>...</td>\n",
       "      <td>0</td>\n",
       "      <td>0</td>\n",
       "      <td>0</td>\n",
       "      <td>0</td>\n",
       "      <td>0</td>\n",
       "      <td>0</td>\n",
       "      <td>0</td>\n",
       "      <td>1</td>\n",
       "      <td>0</td>\n",
       "      <td>0</td>\n",
       "    </tr>\n",
       "    <tr>\n",
       "      <th>3</th>\n",
       "      <td>4</td>\n",
       "      <td>Get Shorty (1995)</td>\n",
       "      <td>01-Jan-1995</td>\n",
       "      <td>NaN</td>\n",
       "      <td>http://us.imdb.com/M/title-exact?Get%20Shorty%...</td>\n",
       "      <td>0</td>\n",
       "      <td>1</td>\n",
       "      <td>0</td>\n",
       "      <td>0</td>\n",
       "      <td>0</td>\n",
       "      <td>...</td>\n",
       "      <td>0</td>\n",
       "      <td>0</td>\n",
       "      <td>0</td>\n",
       "      <td>0</td>\n",
       "      <td>0</td>\n",
       "      <td>0</td>\n",
       "      <td>0</td>\n",
       "      <td>0</td>\n",
       "      <td>0</td>\n",
       "      <td>0</td>\n",
       "    </tr>\n",
       "    <tr>\n",
       "      <th>4</th>\n",
       "      <td>5</td>\n",
       "      <td>Copycat (1995)</td>\n",
       "      <td>01-Jan-1995</td>\n",
       "      <td>NaN</td>\n",
       "      <td>http://us.imdb.com/M/title-exact?Copycat%20(1995)</td>\n",
       "      <td>0</td>\n",
       "      <td>0</td>\n",
       "      <td>0</td>\n",
       "      <td>0</td>\n",
       "      <td>0</td>\n",
       "      <td>...</td>\n",
       "      <td>0</td>\n",
       "      <td>0</td>\n",
       "      <td>0</td>\n",
       "      <td>0</td>\n",
       "      <td>0</td>\n",
       "      <td>0</td>\n",
       "      <td>0</td>\n",
       "      <td>1</td>\n",
       "      <td>0</td>\n",
       "      <td>0</td>\n",
       "    </tr>\n",
       "    <tr>\n",
       "      <th>...</th>\n",
       "      <td>...</td>\n",
       "      <td>...</td>\n",
       "      <td>...</td>\n",
       "      <td>...</td>\n",
       "      <td>...</td>\n",
       "      <td>...</td>\n",
       "      <td>...</td>\n",
       "      <td>...</td>\n",
       "      <td>...</td>\n",
       "      <td>...</td>\n",
       "      <td>...</td>\n",
       "      <td>...</td>\n",
       "      <td>...</td>\n",
       "      <td>...</td>\n",
       "      <td>...</td>\n",
       "      <td>...</td>\n",
       "      <td>...</td>\n",
       "      <td>...</td>\n",
       "      <td>...</td>\n",
       "      <td>...</td>\n",
       "      <td>...</td>\n",
       "    </tr>\n",
       "    <tr>\n",
       "      <th>1677</th>\n",
       "      <td>1678</td>\n",
       "      <td>Mat' i syn (1997)</td>\n",
       "      <td>06-Feb-1998</td>\n",
       "      <td>NaN</td>\n",
       "      <td>http://us.imdb.com/M/title-exact?Mat%27+i+syn+...</td>\n",
       "      <td>0</td>\n",
       "      <td>0</td>\n",
       "      <td>0</td>\n",
       "      <td>0</td>\n",
       "      <td>0</td>\n",
       "      <td>...</td>\n",
       "      <td>0</td>\n",
       "      <td>0</td>\n",
       "      <td>0</td>\n",
       "      <td>0</td>\n",
       "      <td>0</td>\n",
       "      <td>0</td>\n",
       "      <td>0</td>\n",
       "      <td>0</td>\n",
       "      <td>0</td>\n",
       "      <td>0</td>\n",
       "    </tr>\n",
       "    <tr>\n",
       "      <th>1678</th>\n",
       "      <td>1679</td>\n",
       "      <td>B. Monkey (1998)</td>\n",
       "      <td>06-Feb-1998</td>\n",
       "      <td>NaN</td>\n",
       "      <td>http://us.imdb.com/M/title-exact?B%2E+Monkey+(...</td>\n",
       "      <td>0</td>\n",
       "      <td>0</td>\n",
       "      <td>0</td>\n",
       "      <td>0</td>\n",
       "      <td>0</td>\n",
       "      <td>...</td>\n",
       "      <td>0</td>\n",
       "      <td>0</td>\n",
       "      <td>0</td>\n",
       "      <td>0</td>\n",
       "      <td>0</td>\n",
       "      <td>1</td>\n",
       "      <td>0</td>\n",
       "      <td>1</td>\n",
       "      <td>0</td>\n",
       "      <td>0</td>\n",
       "    </tr>\n",
       "    <tr>\n",
       "      <th>1679</th>\n",
       "      <td>1680</td>\n",
       "      <td>Sliding Doors (1998)</td>\n",
       "      <td>01-Jan-1998</td>\n",
       "      <td>NaN</td>\n",
       "      <td>http://us.imdb.com/Title?Sliding+Doors+(1998)</td>\n",
       "      <td>0</td>\n",
       "      <td>0</td>\n",
       "      <td>0</td>\n",
       "      <td>0</td>\n",
       "      <td>0</td>\n",
       "      <td>...</td>\n",
       "      <td>0</td>\n",
       "      <td>0</td>\n",
       "      <td>0</td>\n",
       "      <td>0</td>\n",
       "      <td>0</td>\n",
       "      <td>1</td>\n",
       "      <td>0</td>\n",
       "      <td>0</td>\n",
       "      <td>0</td>\n",
       "      <td>0</td>\n",
       "    </tr>\n",
       "    <tr>\n",
       "      <th>1680</th>\n",
       "      <td>1681</td>\n",
       "      <td>You So Crazy (1994)</td>\n",
       "      <td>01-Jan-1994</td>\n",
       "      <td>NaN</td>\n",
       "      <td>http://us.imdb.com/M/title-exact?You%20So%20Cr...</td>\n",
       "      <td>0</td>\n",
       "      <td>0</td>\n",
       "      <td>0</td>\n",
       "      <td>0</td>\n",
       "      <td>0</td>\n",
       "      <td>...</td>\n",
       "      <td>0</td>\n",
       "      <td>0</td>\n",
       "      <td>0</td>\n",
       "      <td>0</td>\n",
       "      <td>0</td>\n",
       "      <td>0</td>\n",
       "      <td>0</td>\n",
       "      <td>0</td>\n",
       "      <td>0</td>\n",
       "      <td>0</td>\n",
       "    </tr>\n",
       "    <tr>\n",
       "      <th>1681</th>\n",
       "      <td>1682</td>\n",
       "      <td>Scream of Stone (Schrei aus Stein) (1991)</td>\n",
       "      <td>08-Mar-1996</td>\n",
       "      <td>NaN</td>\n",
       "      <td>http://us.imdb.com/M/title-exact?Schrei%20aus%...</td>\n",
       "      <td>0</td>\n",
       "      <td>0</td>\n",
       "      <td>0</td>\n",
       "      <td>0</td>\n",
       "      <td>0</td>\n",
       "      <td>...</td>\n",
       "      <td>0</td>\n",
       "      <td>0</td>\n",
       "      <td>0</td>\n",
       "      <td>0</td>\n",
       "      <td>0</td>\n",
       "      <td>0</td>\n",
       "      <td>0</td>\n",
       "      <td>0</td>\n",
       "      <td>0</td>\n",
       "      <td>0</td>\n",
       "    </tr>\n",
       "  </tbody>\n",
       "</table>\n",
       "<p>1682 rows × 24 columns</p>\n",
       "</div>"
      ],
      "text/plain": [
       "        0                                          1            2   3   \\\n",
       "0        1                           Toy Story (1995)  01-Jan-1995 NaN   \n",
       "1        2                           GoldenEye (1995)  01-Jan-1995 NaN   \n",
       "2        3                          Four Rooms (1995)  01-Jan-1995 NaN   \n",
       "3        4                          Get Shorty (1995)  01-Jan-1995 NaN   \n",
       "4        5                             Copycat (1995)  01-Jan-1995 NaN   \n",
       "...    ...                                        ...          ...  ..   \n",
       "1677  1678                          Mat' i syn (1997)  06-Feb-1998 NaN   \n",
       "1678  1679                           B. Monkey (1998)  06-Feb-1998 NaN   \n",
       "1679  1680                       Sliding Doors (1998)  01-Jan-1998 NaN   \n",
       "1680  1681                        You So Crazy (1994)  01-Jan-1994 NaN   \n",
       "1681  1682  Scream of Stone (Schrei aus Stein) (1991)  08-Mar-1996 NaN   \n",
       "\n",
       "                                                     4   5   6   7   8   9   \\\n",
       "0     http://us.imdb.com/M/title-exact?Toy%20Story%2...   0   0   0   1   1   \n",
       "1     http://us.imdb.com/M/title-exact?GoldenEye%20(...   0   1   1   0   0   \n",
       "2     http://us.imdb.com/M/title-exact?Four%20Rooms%...   0   0   0   0   0   \n",
       "3     http://us.imdb.com/M/title-exact?Get%20Shorty%...   0   1   0   0   0   \n",
       "4     http://us.imdb.com/M/title-exact?Copycat%20(1995)   0   0   0   0   0   \n",
       "...                                                 ...  ..  ..  ..  ..  ..   \n",
       "1677  http://us.imdb.com/M/title-exact?Mat%27+i+syn+...   0   0   0   0   0   \n",
       "1678  http://us.imdb.com/M/title-exact?B%2E+Monkey+(...   0   0   0   0   0   \n",
       "1679      http://us.imdb.com/Title?Sliding+Doors+(1998)   0   0   0   0   0   \n",
       "1680  http://us.imdb.com/M/title-exact?You%20So%20Cr...   0   0   0   0   0   \n",
       "1681  http://us.imdb.com/M/title-exact?Schrei%20aus%...   0   0   0   0   0   \n",
       "\n",
       "      ...  14  15  16  17  18  19  20  21  22  23  \n",
       "0     ...   0   0   0   0   0   0   0   0   0   0  \n",
       "1     ...   0   0   0   0   0   0   0   1   0   0  \n",
       "2     ...   0   0   0   0   0   0   0   1   0   0  \n",
       "3     ...   0   0   0   0   0   0   0   0   0   0  \n",
       "4     ...   0   0   0   0   0   0   0   1   0   0  \n",
       "...   ...  ..  ..  ..  ..  ..  ..  ..  ..  ..  ..  \n",
       "1677  ...   0   0   0   0   0   0   0   0   0   0  \n",
       "1678  ...   0   0   0   0   0   1   0   1   0   0  \n",
       "1679  ...   0   0   0   0   0   1   0   0   0   0  \n",
       "1680  ...   0   0   0   0   0   0   0   0   0   0  \n",
       "1681  ...   0   0   0   0   0   0   0   0   0   0  \n",
       "\n",
       "[1682 rows x 24 columns]"
      ]
     },
     "execution_count": 8,
     "metadata": {},
     "output_type": "execute_result"
    }
   ],
   "source": [
    "movie_info"
   ]
  },
  {
   "cell_type": "code",
   "execution_count": 12,
   "metadata": {},
   "outputs": [],
   "source": [
    "names = []\n",
    "for i in range(len(movie_info)):\n",
    "    name = movie_info.iloc[i][1]\n",
    "    name = name.split('(')[0][:-1]\n",
    "    #print(name)\n",
    "    names.append(name)\n",
    "    #break"
   ]
  },
  {
   "cell_type": "code",
   "execution_count": 16,
   "metadata": {},
   "outputs": [],
   "source": [
    "movie_embeddings = sbert_model.encode(names)"
   ]
  },
  {
   "cell_type": "code",
   "execution_count": null,
   "metadata": {},
   "outputs": [],
   "source": []
  }
 ],
 "metadata": {
  "kernelspec": {
   "display_name": "pt",
   "language": "python",
   "name": "python3"
  },
  "language_info": {
   "codemirror_mode": {
    "name": "ipython",
    "version": 3
   },
   "file_extension": ".py",
   "mimetype": "text/x-python",
   "name": "python",
   "nbconvert_exporter": "python",
   "pygments_lexer": "ipython3",
   "version": "3.9.15"
  },
  "orig_nbformat": 4,
  "vscode": {
   "interpreter": {
    "hash": "55bda1b7df90b08c6cf1f6311494e58e017df1e2a9c0703d9808f934a770372c"
   }
  }
 },
 "nbformat": 4,
 "nbformat_minor": 2
}
