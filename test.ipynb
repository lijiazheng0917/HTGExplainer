{
 "cells": [
  {
   "cell_type": "code",
   "execution_count": 1,
   "metadata": {},
   "outputs": [
    {
     "name": "stderr",
     "output_type": "stream",
     "text": [
      "/home/jiazhengli/anaconda3/envs/pt/lib/python3.9/site-packages/tqdm/auto.py:22: TqdmWarning: IProgress not found. Please update jupyter and ipywidgets. See https://ipywidgets.readthedocs.io/en/stable/user_install.html\n",
      "  from .autonotebook import tqdm as notebook_tqdm\n"
     ]
    }
   ],
   "source": [
    "import dgl\n",
    "from dgl.data.utils import load_graphs\n",
    "\n",
    "import torch\n",
    "import torch.nn as nn\n",
    "import torch.nn.functional as F\n",
    "import numpy as np\n",
    "import random\n",
    "\n",
    "from model.model import HTGNN, NodePredictor\n",
    "from utils.pytorchtools import EarlyStopping\n",
    "from utils.data import load_COVID_data, load_MAG_data\n",
    "\n",
    "dgl.seed(0)\n",
    "np.random.seed(0)\n",
    "torch.manual_seed(0)\n",
    "torch.cuda.manual_seed(0)\n",
    "torch.cuda.manual_seed_all(0)"
   ]
  },
  {
   "cell_type": "code",
   "execution_count": 2,
   "metadata": {},
   "outputs": [],
   "source": [
    "glist, label_dict = load_graphs('/home/jiazhengli/xdgnn/HTGNN/acm_graph.bin')"
   ]
  },
  {
   "cell_type": "code",
   "execution_count": 3,
   "metadata": {},
   "outputs": [
    {
     "data": {
      "text/plain": [
       "[Graph(num_nodes={'author': 5912, 'paper': 3025, 'subject': 57},\n",
       "       num_edges={('author', 'author-paper', 'paper'): 9936, ('paper', 'paper-author', 'author'): 9936, ('paper', 'paper-subject', 'subject'): 3025, ('subject', 'subject-paper', 'paper'): 3025},\n",
       "       metagraph=[('author', 'paper', 'author-paper'), ('paper', 'author', 'paper-author'), ('paper', 'subject', 'paper-subject'), ('subject', 'paper', 'subject-paper')])]"
      ]
     },
     "execution_count": 3,
     "metadata": {},
     "output_type": "execute_result"
    }
   ],
   "source": [
    "glist[]"
   ]
  },
  {
   "cell_type": "code",
   "execution_count": 9,
   "metadata": {},
   "outputs": [
    {
     "data": {
      "text/plain": [
       "0.8156666666666667"
      ]
     },
     "execution_count": 9,
     "metadata": {},
     "output_type": "execute_result"
    }
   ],
   "source": [
    "(0.758 + 0.771 + 0.806 + 0.832 + 0.856 + 0.871)/6"
   ]
  },
  {
   "cell_type": "code",
   "execution_count": null,
   "metadata": {},
   "outputs": [],
   "source": []
  },
  {
   "cell_type": "code",
   "execution_count": 60,
   "metadata": {},
   "outputs": [],
   "source": [
    "glist, label_dict = load_graphs('data/ogbn_graphs.bin')"
   ]
  },
  {
   "cell_type": "code",
   "execution_count": 50,
   "metadata": {},
   "outputs": [
    {
     "data": {
      "text/plain": [
       "Graph(num_nodes={'author': 17764, 'field_of_study': 14635, 'institution': 2276, 'paper': 27112},\n",
       "      num_edges={('author', 'affiliated_with', 'institution'): 40307, ('author', 'writes', 'paper'): 101109, ('paper', 'cites', 'paper'): 19926, ('paper', 'has_topic', 'field_of_study'): 285074},\n",
       "      metagraph=[('author', 'institution', 'affiliated_with'), ('author', 'paper', 'writes'), ('paper', 'paper', 'cites'), ('paper', 'field_of_study', 'has_topic')])"
      ]
     },
     "execution_count": 50,
     "metadata": {},
     "output_type": "execute_result"
    }
   ],
   "source": [
    "glist[0]"
   ]
  },
  {
   "cell_type": "code",
   "execution_count": 61,
   "metadata": {},
   "outputs": [
    {
     "data": {
      "text/plain": [
       "Graph(num_nodes={'author': 17764, 'field_of_study': 15186, 'institution': 2276, 'paper': 28584},\n",
       "      num_edges={('author', 'affiliated_with', 'institution'): 40307, ('author', 'writes', 'paper'): 130156, ('paper', 'cites', 'paper'): 21276, ('paper', 'has_topic', 'field_of_study'): 299817},\n",
       "      metagraph=[('author', 'institution', 'affiliated_with'), ('author', 'paper', 'writes'), ('paper', 'paper', 'cites'), ('paper', 'field_of_study', 'has_topic')])"
      ]
     },
     "execution_count": 61,
     "metadata": {},
     "output_type": "execute_result"
    }
   ],
   "source": [
    "glist[1]"
   ]
  },
  {
   "cell_type": "code",
   "execution_count": 3,
   "metadata": {},
   "outputs": [
    {
     "name": "stdout",
     "output_type": "stream",
     "text": [
      "loading mp2vec\n",
      "generating train, val, test sets \n"
     ]
    }
   ],
   "source": [
    "glist, label_dict = load_graphs('data/ogbn_graphs.bin')\n",
    "device = torch.device('cuda')\n",
    "time_window = 6\n",
    "\n",
    "train_feats, train_labels, val_feats, val_labels, test_feats, test_labels = load_MAG_data(glist, time_window, device)\n"
   ]
  },
  {
   "cell_type": "code",
   "execution_count": 5,
   "metadata": {},
   "outputs": [
    {
     "data": {
      "text/plain": [
       "1"
      ]
     },
     "execution_count": 5,
     "metadata": {},
     "output_type": "execute_result"
    }
   ],
   "source": [
    "len(val_feats)"
   ]
  },
  {
   "cell_type": "code",
   "execution_count": null,
   "metadata": {},
   "outputs": [],
   "source": []
  },
  {
   "cell_type": "code",
   "execution_count": 54,
   "metadata": {},
   "outputs": [],
   "source": [
    "device = torch.device('cuda')\n",
    "glist, _ = load_graphs('data/covid_graphs.bin')\n",
    "time_window = 7\n",
    "\n",
    "train_feats, train_labels, val_feats, val_labels, test_feats, test_labels = load_COVID_data(glist, time_window)\n"
   ]
  },
  {
   "cell_type": "code",
   "execution_count": 56,
   "metadata": {},
   "outputs": [
    {
     "data": {
      "text/plain": [
       "Graph(num_nodes={'county': 3223, 'state': 51},\n",
       "      num_edges={('county', 'affiliate_r', 'state'): 3141, ('county', 'nearby_county', 'county'): 22176, ('state', 'affiliate', 'county'): 3141, ('state', 'nearby_state', 'state'): 269},\n",
       "      metagraph=[('county', 'state', 'affiliate_r'), ('county', 'county', 'nearby_county'), ('state', 'county', 'affiliate'), ('state', 'state', 'nearby_state')])"
      ]
     },
     "execution_count": 56,
     "metadata": {},
     "output_type": "execute_result"
    }
   ],
   "source": [
    "glist[0]"
   ]
  },
  {
   "cell_type": "code",
   "execution_count": 9,
   "metadata": {},
   "outputs": [
    {
     "data": {
      "text/plain": [
       "tensor([ 0,  1,  2,  3,  4,  5,  6,  7,  8,  9, 10, 11, 12, 13, 14, 15, 16, 17,\n",
       "        18, 19, 20, 21, 22, 23, 24, 25, 26, 27, 28, 29, 30, 31, 32, 33, 34, 35,\n",
       "        36, 37, 38, 39, 40, 41, 42, 43, 44, 45, 46, 47, 48, 49, 50],\n",
       "       dtype=torch.int32)"
      ]
     },
     "execution_count": 9,
     "metadata": {},
     "output_type": "execute_result"
    }
   ],
   "source": [
    "train_feats[0].nodes('state')"
   ]
  },
  {
   "cell_type": "code",
   "execution_count": 3,
   "metadata": {},
   "outputs": [],
   "source": [
    "sg, inverse_indices = dgl.khop_in_subgraph(train_feats[0], {'state': 2}, k=2, store_ids=True)"
   ]
  },
  {
   "cell_type": "code",
   "execution_count": 5,
   "metadata": {},
   "outputs": [
    {
     "data": {
      "text/plain": [
       "13377"
      ]
     },
     "execution_count": 5,
     "metadata": {},
     "output_type": "execute_result"
    }
   ],
   "source": [
    "sg.num_edges()"
   ]
  },
  {
   "cell_type": "code",
   "execution_count": 6,
   "metadata": {},
   "outputs": [],
   "source": [
    "sg, inverse_indices = dgl.khop_in_subgraph(train_feats[0], {'state': [1,2]}, k=2, store_ids=True)"
   ]
  },
  {
   "cell_type": "code",
   "execution_count": 14,
   "metadata": {},
   "outputs": [],
   "source": [
    "dic = {}\n",
    "z = 0\n",
    "# k = 0 \n",
    "for stype, etype, dtype in sg.canonical_etypes:\n",
    "    k = sg[stype, etype, dtype].number_of_edges()\n",
    "    # k = sg[stype, etype, dtype].number_of_edges()\n",
    "    dic[etype] = (z,z + k)\n",
    "    z += k\n"
   ]
  },
  {
   "cell_type": "code",
   "execution_count": 15,
   "metadata": {},
   "outputs": [
    {
     "data": {
      "text/plain": [
       "{'affiliate_r_t0': (0, 29),\n",
       " 'affiliate_r_t1': (29, 58),\n",
       " 'affiliate_r_t2': (58, 87),\n",
       " 'affiliate_r_t3': (87, 116),\n",
       " 'affiliate_r_t4': (116, 145),\n",
       " 'affiliate_r_t5': (145, 174),\n",
       " 'affiliate_r_t6': (174, 203),\n",
       " 'nearby_county_t0': (203, 334),\n",
       " 'nearby_county_t1': (334, 465),\n",
       " 'nearby_county_t2': (465, 596),\n",
       " 'nearby_county_t3': (596, 727),\n",
       " 'nearby_county_t4': (727, 858),\n",
       " 'nearby_county_t5': (858, 989),\n",
       " 'nearby_county_t6': (989, 1120),\n",
       " 'affiliate_t0': (1120, 1149),\n",
       " 'affiliate_t1': (1149, 1178),\n",
       " 'affiliate_t2': (1178, 1207),\n",
       " 'affiliate_t3': (1207, 1236),\n",
       " 'affiliate_t4': (1236, 1265),\n",
       " 'affiliate_t5': (1265, 1294),\n",
       " 'affiliate_t6': (1294, 1323),\n",
       " 'nearby_state_t0': (1323, 1324),\n",
       " 'nearby_state_t1': (1324, 1325),\n",
       " 'nearby_state_t2': (1325, 1326),\n",
       " 'nearby_state_t3': (1326, 1327),\n",
       " 'nearby_state_t4': (1327, 1328),\n",
       " 'nearby_state_t5': (1328, 1329),\n",
       " 'nearby_state_t6': (1329, 1330)}"
      ]
     },
     "execution_count": 15,
     "metadata": {},
     "output_type": "execute_result"
    }
   ],
   "source": [
    "dic"
   ]
  },
  {
   "cell_type": "code",
   "execution_count": 25,
   "metadata": {},
   "outputs": [],
   "source": [
    "c = {type:0 for type in sg.etypes}"
   ]
  },
  {
   "cell_type": "code",
   "execution_count": 27,
   "metadata": {},
   "outputs": [
    {
     "data": {
      "text/plain": [
       "(tensor([1, 2]), tensor([1, 1]), tensor([0, 1]))"
      ]
     },
     "execution_count": 27,
     "metadata": {},
     "output_type": "execute_result"
    }
   ],
   "source": [
    "g = dgl.heterograph({\n",
    "    ('user', 'plays', 'game'): (torch.tensor([0, 1, 1, 2]),\n",
    "                                torch.tensor([0, 0, 1, 1])),\n",
    "    ('developer', 'develops', 'game'): (torch.tensor([0, 1]),\n",
    "                                        torch.tensor([0, 1]))\n",
    "    })\n",
    "g = dgl.remove_edges(g, torch.tensor([0, 1]), 'plays',store_ids=True)\n",
    "g.edges('all', etype='plays')"
   ]
  },
  {
   "cell_type": "code",
   "execution_count": 29,
   "metadata": {},
   "outputs": [
    {
     "data": {
      "text/plain": [
       "4"
      ]
     },
     "execution_count": 29,
     "metadata": {},
     "output_type": "execute_result"
    }
   ],
   "source": [
    "g.num_edges()"
   ]
  },
  {
   "cell_type": "code",
   "execution_count": 28,
   "metadata": {},
   "outputs": [
    {
     "data": {
      "text/plain": [
       "{('developer', 'develops', 'game'): tensor([0, 1]),\n",
       " ('user', 'plays', 'game'): tensor([2, 3])}"
      ]
     },
     "execution_count": 28,
     "metadata": {},
     "output_type": "execute_result"
    }
   ],
   "source": [
    "g.edata[dgl.EID]"
   ]
  },
  {
   "cell_type": "code",
   "execution_count": null,
   "metadata": {},
   "outputs": [],
   "source": []
  },
  {
   "cell_type": "code",
   "execution_count": null,
   "metadata": {},
   "outputs": [],
   "source": []
  },
  {
   "cell_type": "code",
   "execution_count": null,
   "metadata": {},
   "outputs": [],
   "source": []
  },
  {
   "attachments": {},
   "cell_type": "markdown",
   "metadata": {},
   "source": [
    "# GNNExplainer"
   ]
  },
  {
   "cell_type": "code",
   "execution_count": 2,
   "metadata": {},
   "outputs": [
    {
     "name": "stdout",
     "output_type": "stream",
     "text": [
      "Downloading /home/jiazhengli/.dgl/cora_v2.zip from https://data.dgl.ai/dataset/cora_v2.zip...\n",
      "Extracting file to /home/jiazhengli/.dgl/cora_v2\n",
      "Finished data loading and preprocessing.\n",
      "  NumNodes: 2708\n",
      "  NumEdges: 10556\n",
      "  NumFeats: 1433\n",
      "  NumClasses: 7\n",
      "  NumTrainingSamples: 140\n",
      "  NumValidationSamples: 500\n",
      "  NumTestSamples: 1000\n",
      "Done saving data into cached files.\n"
     ]
    }
   ],
   "source": [
    "dataset = dgl.data.CoraGraphDataset()"
   ]
  },
  {
   "cell_type": "code",
   "execution_count": 13,
   "metadata": {},
   "outputs": [
    {
     "data": {
      "text/plain": [
       "torch.Size([2708, 1433])"
      ]
     },
     "execution_count": 13,
     "metadata": {},
     "output_type": "execute_result"
    }
   ],
   "source": [
    "dataset[0].ndata['feat'].float()"
   ]
  },
  {
   "cell_type": "code",
   "execution_count": 57,
   "metadata": {},
   "outputs": [],
   "source": [
    "device = torch.device('cuda')\n",
    "glist, _ = load_graphs('data/covid_graphs.bin')\n",
    "time_window = 7\n",
    "\n",
    "train_feats, train_labels, val_feats, val_labels, test_feats, test_labels = load_COVID_data(glist, time_window)"
   ]
  },
  {
   "cell_type": "code",
   "execution_count": 58,
   "metadata": {},
   "outputs": [
    {
     "data": {
      "text/plain": [
       "Graph(num_nodes={'county': 3223, 'state': 51},\n",
       "      num_edges={('county', 'affiliate_r', 'state'): 3141, ('county', 'nearby_county', 'county'): 22176, ('state', 'affiliate', 'county'): 3141, ('state', 'nearby_state', 'state'): 269},\n",
       "      metagraph=[('county', 'state', 'affiliate_r'), ('county', 'county', 'nearby_county'), ('state', 'county', 'affiliate'), ('state', 'state', 'nearby_state')])"
      ]
     },
     "execution_count": 58,
     "metadata": {},
     "output_type": "execute_result"
    }
   ],
   "source": [
    "glist[0]"
   ]
  },
  {
   "cell_type": "code",
   "execution_count": 59,
   "metadata": {},
   "outputs": [
    {
     "data": {
      "text/plain": [
       "Graph(num_nodes={'county': 3223, 'state': 51},\n",
       "      num_edges={('county', 'affiliate_r', 'state'): 3141, ('county', 'nearby_county', 'county'): 22176, ('state', 'affiliate', 'county'): 3141, ('state', 'nearby_state', 'state'): 269},\n",
       "      metagraph=[('county', 'state', 'affiliate_r'), ('county', 'county', 'nearby_county'), ('state', 'county', 'affiliate'), ('state', 'state', 'nearby_state')])"
      ]
     },
     "execution_count": 59,
     "metadata": {},
     "output_type": "execute_result"
    }
   ],
   "source": [
    "glist[1]"
   ]
  },
  {
   "cell_type": "code",
   "execution_count": 18,
   "metadata": {},
   "outputs": [
    {
     "data": {
      "text/plain": [
       "Graph(num_nodes={'county': 3223, 'state': 51},\n",
       "      num_edges={('county', 'affiliate_r_t0', 'state'): 3141, ('county', 'affiliate_r_t1', 'state'): 3141, ('county', 'affiliate_r_t2', 'state'): 3141, ('county', 'affiliate_r_t3', 'state'): 3141, ('county', 'affiliate_r_t4', 'state'): 3141, ('county', 'affiliate_r_t5', 'state'): 3141, ('county', 'affiliate_r_t6', 'state'): 3141, ('county', 'nearby_county_t0', 'county'): 22176, ('county', 'nearby_county_t1', 'county'): 22176, ('county', 'nearby_county_t2', 'county'): 22176, ('county', 'nearby_county_t3', 'county'): 22176, ('county', 'nearby_county_t4', 'county'): 22176, ('county', 'nearby_county_t5', 'county'): 22176, ('county', 'nearby_county_t6', 'county'): 22176, ('state', 'affiliate_t0', 'county'): 3141, ('state', 'affiliate_t1', 'county'): 3141, ('state', 'affiliate_t2', 'county'): 3141, ('state', 'affiliate_t3', 'county'): 3141, ('state', 'affiliate_t4', 'county'): 3141, ('state', 'affiliate_t5', 'county'): 3141, ('state', 'affiliate_t6', 'county'): 3141, ('state', 'nearby_state_t0', 'state'): 269, ('state', 'nearby_state_t1', 'state'): 269, ('state', 'nearby_state_t2', 'state'): 269, ('state', 'nearby_state_t3', 'state'): 269, ('state', 'nearby_state_t4', 'state'): 269, ('state', 'nearby_state_t5', 'state'): 269, ('state', 'nearby_state_t6', 'state'): 269},\n",
       "      metagraph=[('county', 'state', 'affiliate_r_t0'), ('county', 'state', 'affiliate_r_t1'), ('county', 'state', 'affiliate_r_t2'), ('county', 'state', 'affiliate_r_t3'), ('county', 'state', 'affiliate_r_t4'), ('county', 'state', 'affiliate_r_t5'), ('county', 'state', 'affiliate_r_t6'), ('county', 'county', 'nearby_county_t0'), ('county', 'county', 'nearby_county_t1'), ('county', 'county', 'nearby_county_t2'), ('county', 'county', 'nearby_county_t3'), ('county', 'county', 'nearby_county_t4'), ('county', 'county', 'nearby_county_t5'), ('county', 'county', 'nearby_county_t6'), ('state', 'county', 'affiliate_t0'), ('state', 'county', 'affiliate_t1'), ('state', 'county', 'affiliate_t2'), ('state', 'county', 'affiliate_t3'), ('state', 'county', 'affiliate_t4'), ('state', 'county', 'affiliate_t5'), ('state', 'county', 'affiliate_t6'), ('state', 'state', 'nearby_state_t0'), ('state', 'state', 'nearby_state_t1'), ('state', 'state', 'nearby_state_t2'), ('state', 'state', 'nearby_state_t3'), ('state', 'state', 'nearby_state_t4'), ('state', 'state', 'nearby_state_t5'), ('state', 'state', 'nearby_state_t6')])"
      ]
     },
     "execution_count": 18,
     "metadata": {},
     "output_type": "execute_result"
    }
   ],
   "source": [
    "g = test_feats[0]\n",
    "g"
   ]
  },
  {
   "cell_type": "code",
   "execution_count": null,
   "metadata": {},
   "outputs": [],
   "source": []
  },
  {
   "cell_type": "code",
   "execution_count": 40,
   "metadata": {},
   "outputs": [
    {
     "data": {
      "text/plain": [
       "torch.Size([3223, 1])"
      ]
     },
     "execution_count": 40,
     "metadata": {},
     "output_type": "execute_result"
    }
   ],
   "source": [
    "g.ndata['t0']['county'].shape"
   ]
  },
  {
   "cell_type": "code",
   "execution_count": 46,
   "metadata": {},
   "outputs": [
    {
     "data": {
      "text/plain": [
       "['county', 'state']"
      ]
     },
     "execution_count": 46,
     "metadata": {},
     "output_type": "execute_result"
    }
   ],
   "source": [
    "g.ntypes"
   ]
  },
  {
   "cell_type": "code",
   "execution_count": 42,
   "metadata": {},
   "outputs": [
    {
     "data": {
      "text/plain": [
       "[('county', 'affiliate_r_t0', 'state'),\n",
       " ('county', 'affiliate_r_t1', 'state'),\n",
       " ('county', 'affiliate_r_t2', 'state'),\n",
       " ('county', 'affiliate_r_t3', 'state'),\n",
       " ('county', 'affiliate_r_t4', 'state'),\n",
       " ('county', 'affiliate_r_t5', 'state'),\n",
       " ('county', 'affiliate_r_t6', 'state'),\n",
       " ('county', 'nearby_county_t0', 'county'),\n",
       " ('county', 'nearby_county_t1', 'county'),\n",
       " ('county', 'nearby_county_t2', 'county'),\n",
       " ('county', 'nearby_county_t3', 'county'),\n",
       " ('county', 'nearby_county_t4', 'county'),\n",
       " ('county', 'nearby_county_t5', 'county'),\n",
       " ('county', 'nearby_county_t6', 'county'),\n",
       " ('state', 'affiliate_t0', 'county'),\n",
       " ('state', 'affiliate_t1', 'county'),\n",
       " ('state', 'affiliate_t2', 'county'),\n",
       " ('state', 'affiliate_t3', 'county'),\n",
       " ('state', 'affiliate_t4', 'county'),\n",
       " ('state', 'affiliate_t5', 'county'),\n",
       " ('state', 'affiliate_t6', 'county'),\n",
       " ('state', 'nearby_state_t0', 'state'),\n",
       " ('state', 'nearby_state_t1', 'state'),\n",
       " ('state', 'nearby_state_t2', 'state'),\n",
       " ('state', 'nearby_state_t3', 'state'),\n",
       " ('state', 'nearby_state_t4', 'state'),\n",
       " ('state', 'nearby_state_t5', 'state'),\n",
       " ('state', 'nearby_state_t6', 'state')]"
      ]
     },
     "execution_count": 42,
     "metadata": {},
     "output_type": "execute_result"
    }
   ],
   "source": [
    "g.canonical_etypes"
   ]
  },
  {
   "cell_type": "code",
   "execution_count": 19,
   "metadata": {},
   "outputs": [
    {
     "data": {
      "text/plain": [
       "Graph(num_nodes=3274, num_edges=201089,\n",
       "      ndata_schemes={'_ID': Scheme(shape=(), dtype=torch.int32), '_TYPE': Scheme(shape=(), dtype=torch.int64)}\n",
       "      edata_schemes={'_ID': Scheme(shape=(), dtype=torch.int32), '_TYPE': Scheme(shape=(), dtype=torch.int64)})"
      ]
     },
     "execution_count": 19,
     "metadata": {},
     "output_type": "execute_result"
    }
   ],
   "source": [
    "hg = dgl.to_homogeneous(g)\n",
    "hg"
   ]
  },
  {
   "cell_type": "code",
   "execution_count": 38,
   "metadata": {},
   "outputs": [
    {
     "data": {
      "text/plain": [
       "tensor([0, 0, 0,  ..., 1, 1, 1])"
      ]
     },
     "execution_count": 38,
     "metadata": {},
     "output_type": "execute_result"
    }
   ],
   "source": [
    "hg.ndata[dgl.NTYPE]"
   ]
  },
  {
   "cell_type": "code",
   "execution_count": null,
   "metadata": {},
   "outputs": [],
   "source": []
  },
  {
   "cell_type": "code",
   "execution_count": null,
   "metadata": {},
   "outputs": [],
   "source": []
  },
  {
   "cell_type": "code",
   "execution_count": null,
   "metadata": {},
   "outputs": [],
   "source": []
  },
  {
   "attachments": {},
   "cell_type": "markdown",
   "metadata": {},
   "source": [
    "# New dataset"
   ]
  },
  {
   "cell_type": "code",
   "execution_count": 63,
   "metadata": {},
   "outputs": [
    {
     "name": "stdout",
     "output_type": "stream",
     "text": [
      "Downloading http://snap.stanford.edu/ogb/data/linkproppred/collab.zip\n"
     ]
    },
    {
     "name": "stderr",
     "output_type": "stream",
     "text": [
      "Downloaded 0.11 GB: 100%|██████████| 117/117 [00:09<00:00, 11.81it/s]\n"
     ]
    },
    {
     "name": "stdout",
     "output_type": "stream",
     "text": [
      "Extracting dataset/collab.zip\n",
      "Loading necessary files...\n",
      "This might take a while.\n",
      "Processing graphs...\n"
     ]
    },
    {
     "name": "stderr",
     "output_type": "stream",
     "text": [
      "100%|██████████| 1/1 [00:00<00:00, 44.89it/s]\n"
     ]
    },
    {
     "name": "stdout",
     "output_type": "stream",
     "text": [
      "Converting graphs into DGL objects...\n"
     ]
    },
    {
     "name": "stderr",
     "output_type": "stream",
     "text": [
      "100%|██████████| 1/1 [00:00<00:00, 412.66it/s]"
     ]
    },
    {
     "name": "stdout",
     "output_type": "stream",
     "text": [
      "Saving...\n"
     ]
    },
    {
     "name": "stderr",
     "output_type": "stream",
     "text": [
      "\n"
     ]
    }
   ],
   "source": [
    "from ogb.linkproppred import DglLinkPropPredDataset\n",
    "\n",
    "dataset = DglLinkPropPredDataset(name = 'ogbl-collab')\n",
    "\n",
    "split_edge = dataset.get_edge_split()\n",
    "train_edge, valid_edge, test_edge = split_edge[\"train\"], split_edge[\"valid\"], split_edge[\"test\"]\n",
    "graph = dataset[0]"
   ]
  },
  {
   "cell_type": "code",
   "execution_count": 64,
   "metadata": {},
   "outputs": [
    {
     "data": {
      "text/plain": [
       "Graph(num_nodes=235868, num_edges=2358104,\n",
       "      ndata_schemes={'feat': Scheme(shape=(128,), dtype=torch.float32)}\n",
       "      edata_schemes={'year': Scheme(shape=(1,), dtype=torch.int64), 'weight': Scheme(shape=(1,), dtype=torch.int64)})"
      ]
     },
     "execution_count": 64,
     "metadata": {},
     "output_type": "execute_result"
    }
   ],
   "source": [
    "graph"
   ]
  },
  {
   "cell_type": "code",
   "execution_count": null,
   "metadata": {},
   "outputs": [],
   "source": [
    "def load_acm(remove_self_loop):\n",
    "    url = 'dataset/ACM3025.pkl'\n",
    "    data_path = get_download_dir() + '/ACM3025.pkl'\n",
    "    download(_get_dgl_url(url), path=data_path)\n",
    "\n",
    "    with open(data_path, 'rb') as f:\n",
    "        data = pickle.load(f)\n",
    "\n",
    "    labels, features = torch.from_numpy(data['label'].todense()).long(), \\\n",
    "                       torch.from_numpy(data['feature'].todense()).float()\n",
    "    num_classes = labels.shape[1]\n",
    "    labels = labels.nonzero()[:, 1]\n",
    "\n",
    "    if remove_self_loop:\n",
    "        num_nodes = data['label'].shape[0]\n",
    "        data['PAP'] = sparse.csr_matrix(data['PAP'] - np.eye(num_nodes))\n",
    "        data['PLP'] = sparse.csr_matrix(data['PLP'] - np.eye(num_nodes))\n",
    "\n",
    "    # Adjacency matrices for meta path based neighbors\n",
    "    # (Mufei): I verified both of them are binary adjacency matrices with self loops\n",
    "    author_g = dgl.from_scipy(data['PAP'])\n",
    "    subject_g = dgl.from_scipy(data['PLP'])\n",
    "    gs = [author_g, subject_g]\n",
    "\n",
    "    train_idx = torch.from_numpy(data['train_idx']).long().squeeze(0)\n",
    "    val_idx = torch.from_numpy(data['val_idx']).long().squeeze(0)\n",
    "    test_idx = torch.from_numpy(data['test_idx']).long().squeeze(0)\n",
    "\n",
    "    num_nodes = author_g.number_of_nodes()\n",
    "    train_mask = get_binary_mask(num_nodes, train_idx)\n",
    "    val_mask = get_binary_mask(num_nodes, val_idx)\n",
    "    test_mask = get_binary_mask(num_nodes, test_idx)\n",
    "\n",
    "    print('dataset loaded')\n",
    "    pprint({\n",
    "        'dataset': 'ACM',\n",
    "        'train': train_mask.sum().item() / num_nodes,\n",
    "        'val': val_mask.sum().item() / num_nodes,\n",
    "        'test': test_mask.sum().item() / num_nodes\n",
    "    })\n",
    "\n",
    "    return gs, features, labels, num_classes, train_idx, val_idx, test_idx, \\\n",
    "           train_mask, val_mask, test_mask"
   ]
  },
  {
   "cell_type": "code",
   "execution_count": 11,
   "metadata": {},
   "outputs": [
    {
     "data": {
      "text/plain": [
       "0.8643333333333333"
      ]
     },
     "execution_count": 11,
     "metadata": {},
     "output_type": "execute_result"
    }
   ],
   "source": [
    "r = np.array([0.803 , 0.841 , 0.861 , 0.877 , 0.897 , 0.907])\n",
    "np.mean(r)"
   ]
  },
  {
   "cell_type": "code",
   "execution_count": null,
   "metadata": {},
   "outputs": [],
   "source": []
  }
 ],
 "metadata": {
  "kernelspec": {
   "display_name": "pt",
   "language": "python",
   "name": "python3"
  },
  "language_info": {
   "codemirror_mode": {
    "name": "ipython",
    "version": 3
   },
   "file_extension": ".py",
   "mimetype": "text/x-python",
   "name": "python",
   "nbconvert_exporter": "python",
   "pygments_lexer": "ipython3",
   "version": "3.9.15"
  },
  "orig_nbformat": 4,
  "vscode": {
   "interpreter": {
    "hash": "55bda1b7df90b08c6cf1f6311494e58e017df1e2a9c0703d9808f934a770372c"
   }
  }
 },
 "nbformat": 4,
 "nbformat_minor": 2
}
