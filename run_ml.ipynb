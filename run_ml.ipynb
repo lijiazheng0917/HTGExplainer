{
 "cells": [
  {
   "cell_type": "code",
   "execution_count": 29,
   "metadata": {},
   "outputs": [],
   "source": [
    "import dgl\n",
    "from dgl.data.utils import load_graphs\n",
    "\n",
    "import torch\n",
    "import torch.nn as nn\n",
    "import torch.nn.functional as F\n",
    "import numpy as np\n",
    "\n",
    "from model.model_gcn import HTGNN, LinkPredictor_ml\n",
    "from utils.pytorchtools import EarlyStopping\n",
    "from utils.utils import compute_metric, compute_loss\n",
    "from utils.data import load_MAG_data, load_ML_data\n",
    "\n",
    "dgl.seed(0)\n",
    "torch.manual_seed(0)\n",
    "torch.cuda.manual_seed(0)\n",
    "torch.cuda.manual_seed_all(0)"
   ]
  },
  {
   "cell_type": "code",
   "execution_count": 30,
   "metadata": {},
   "outputs": [],
   "source": [
    "def evaluate(model, val_feats, val_labels):\n",
    "    val_mae_list, val_rmse_list = [], []\n",
    "    model.eval()\n",
    "    with torch.no_grad():\n",
    "        for (G_feat, (pos_label, neg_label)) in zip(val_feats, val_labels):\n",
    "\n",
    "            G_feat = G_feat.to(device)\n",
    "\n",
    "            # pos_label = pos_label.to(device)\n",
    "            # neg_label = neg_label.to(device)\n",
    "\n",
    "            h_u = model[0](G_feat, 'user')\n",
    "            h_m = model[0](G_feat, 'movie')\n",
    "\n",
    "            pos_u, pos_m = pos_label[0], pos_label[1]\n",
    "            neg_u, neg_m = neg_label[0], neg_label[1]\n",
    "\n",
    "            pos_score, neg_score = model[1](h_u, h_m, pos_u, pos_m, neg_u, neg_m)\n",
    "\n",
    "            loss = compute_loss(pos_score, neg_score, device)\n",
    "            auc, ap = compute_metric(pos_score, neg_score)\n",
    "    \n",
    "    return auc, ap"
   ]
  },
  {
   "cell_type": "code",
   "execution_count": 33,
   "metadata": {
    "scrolled": true
   },
   "outputs": [
    {
     "name": "stdout",
     "output_type": "stream",
     "text": [
      "defaultdict(<class 'dict'>, {})\n",
      "---------------Repeat time: 1---------------------\n",
      "# params: 116485\n"
     ]
    },
    {
     "ename": "KeyError",
     "evalue": "'t0'",
     "output_type": "error",
     "traceback": [
      "\u001b[0;31m---------------------------------------------------------------------------\u001b[0m",
      "\u001b[0;31mKeyError\u001b[0m                                  Traceback (most recent call last)",
      "\u001b[1;32m/home/jiazhengli/xdgnn/HTGNN/run_ml.ipynb Cell 3\u001b[0m in \u001b[0;36m3\n\u001b[1;32m     <a href='vscode-notebook-cell://ssh-remote%2B172.20.229.152/home/jiazhengli/xdgnn/HTGNN/run_ml.ipynb#W2sdnNjb2RlLXJlbW90ZQ%3D%3D?line=26'>27</a>\u001b[0m G_feat \u001b[39m=\u001b[39m G_feat\u001b[39m.\u001b[39mto(device)\n\u001b[1;32m     <a href='vscode-notebook-cell://ssh-remote%2B172.20.229.152/home/jiazhengli/xdgnn/HTGNN/run_ml.ipynb#W2sdnNjb2RlLXJlbW90ZQ%3D%3D?line=28'>29</a>\u001b[0m \u001b[39m# pos_label = pos_label.to(device)\u001b[39;00m\n\u001b[1;32m     <a href='vscode-notebook-cell://ssh-remote%2B172.20.229.152/home/jiazhengli/xdgnn/HTGNN/run_ml.ipynb#W2sdnNjb2RlLXJlbW90ZQ%3D%3D?line=29'>30</a>\u001b[0m \u001b[39m# neg_label = neg_label.to(device)\u001b[39;00m\n\u001b[1;32m     <a href='vscode-notebook-cell://ssh-remote%2B172.20.229.152/home/jiazhengli/xdgnn/HTGNN/run_ml.ipynb#W2sdnNjb2RlLXJlbW90ZQ%3D%3D?line=30'>31</a>\u001b[0m \n\u001b[1;32m     <a href='vscode-notebook-cell://ssh-remote%2B172.20.229.152/home/jiazhengli/xdgnn/HTGNN/run_ml.ipynb#W2sdnNjb2RlLXJlbW90ZQ%3D%3D?line=31'>32</a>\u001b[0m \u001b[39m# print(G_feat.ndata)\u001b[39;00m\n\u001b[0;32m---> <a href='vscode-notebook-cell://ssh-remote%2B172.20.229.152/home/jiazhengli/xdgnn/HTGNN/run_ml.ipynb#W2sdnNjb2RlLXJlbW90ZQ%3D%3D?line=33'>34</a>\u001b[0m h_u \u001b[39m=\u001b[39m model[\u001b[39m0\u001b[39;49m](G_feat, \u001b[39m'\u001b[39;49m\u001b[39muser\u001b[39;49m\u001b[39m'\u001b[39;49m)\n\u001b[1;32m     <a href='vscode-notebook-cell://ssh-remote%2B172.20.229.152/home/jiazhengli/xdgnn/HTGNN/run_ml.ipynb#W2sdnNjb2RlLXJlbW90ZQ%3D%3D?line=34'>35</a>\u001b[0m h_m \u001b[39m=\u001b[39m model[\u001b[39m0\u001b[39m](G_feat, \u001b[39m'\u001b[39m\u001b[39mmovie\u001b[39m\u001b[39m'\u001b[39m)\n\u001b[1;32m     <a href='vscode-notebook-cell://ssh-remote%2B172.20.229.152/home/jiazhengli/xdgnn/HTGNN/run_ml.ipynb#W2sdnNjb2RlLXJlbW90ZQ%3D%3D?line=35'>36</a>\u001b[0m \u001b[39m# h_u = torch.ones((944,32),device='cuda')\u001b[39;00m\n\u001b[1;32m     <a href='vscode-notebook-cell://ssh-remote%2B172.20.229.152/home/jiazhengli/xdgnn/HTGNN/run_ml.ipynb#W2sdnNjb2RlLXJlbW90ZQ%3D%3D?line=36'>37</a>\u001b[0m \u001b[39m# h_m = torch.ones((1683,32),device='cuda')\u001b[39;00m\n",
      "File \u001b[0;32m~/anaconda3/envs/pt/lib/python3.9/site-packages/torch/nn/modules/module.py:1190\u001b[0m, in \u001b[0;36mModule._call_impl\u001b[0;34m(self, *input, **kwargs)\u001b[0m\n\u001b[1;32m   1186\u001b[0m \u001b[39m# If we don't have any hooks, we want to skip the rest of the logic in\u001b[39;00m\n\u001b[1;32m   1187\u001b[0m \u001b[39m# this function, and just call forward.\u001b[39;00m\n\u001b[1;32m   1188\u001b[0m \u001b[39mif\u001b[39;00m \u001b[39mnot\u001b[39;00m (\u001b[39mself\u001b[39m\u001b[39m.\u001b[39m_backward_hooks \u001b[39mor\u001b[39;00m \u001b[39mself\u001b[39m\u001b[39m.\u001b[39m_forward_hooks \u001b[39mor\u001b[39;00m \u001b[39mself\u001b[39m\u001b[39m.\u001b[39m_forward_pre_hooks \u001b[39mor\u001b[39;00m _global_backward_hooks\n\u001b[1;32m   1189\u001b[0m         \u001b[39mor\u001b[39;00m _global_forward_hooks \u001b[39mor\u001b[39;00m _global_forward_pre_hooks):\n\u001b[0;32m-> 1190\u001b[0m     \u001b[39mreturn\u001b[39;00m forward_call(\u001b[39m*\u001b[39;49m\u001b[39minput\u001b[39;49m, \u001b[39m*\u001b[39;49m\u001b[39m*\u001b[39;49mkwargs)\n\u001b[1;32m   1191\u001b[0m \u001b[39m# Do not call functions when jit is used\u001b[39;00m\n\u001b[1;32m   1192\u001b[0m full_backward_hooks, non_full_backward_hooks \u001b[39m=\u001b[39m [], []\n",
      "File \u001b[0;32m~/xdgnn/HTGNN/model/model_gcn.py:262\u001b[0m, in \u001b[0;36mHTGNN.forward\u001b[0;34m(self, graph, predict_type, edge_weight)\u001b[0m\n\u001b[1;32m    260\u001b[0m     inp_feat[ntype] \u001b[39m=\u001b[39m {}\n\u001b[1;32m    261\u001b[0m     \u001b[39mfor\u001b[39;00m ttype \u001b[39min\u001b[39;00m \u001b[39mself\u001b[39m\u001b[39m.\u001b[39mtimeframe:\n\u001b[0;32m--> 262\u001b[0m         inp_feat[ntype][ttype] \u001b[39m=\u001b[39m \u001b[39mself\u001b[39m\u001b[39m.\u001b[39madaption_layer[ntype](graph\u001b[39m.\u001b[39;49mnodes[ntype]\u001b[39m.\u001b[39;49mdata[ttype])\n\u001b[1;32m    264\u001b[0m \u001b[39m# gnn\u001b[39;00m\n\u001b[1;32m    265\u001b[0m \u001b[39mfor\u001b[39;00m i \u001b[39min\u001b[39;00m \u001b[39mrange\u001b[39m(\u001b[39mself\u001b[39m\u001b[39m.\u001b[39mn_layers):\n",
      "File \u001b[0;32m~/anaconda3/envs/pt/lib/python3.9/site-packages/dgl/view.py:73\u001b[0m, in \u001b[0;36mHeteroNodeDataView.__getitem__\u001b[0;34m(self, key)\u001b[0m\n\u001b[1;32m     71\u001b[0m     \u001b[39mreturn\u001b[39;00m ret\n\u001b[1;32m     72\u001b[0m \u001b[39melse\u001b[39;00m:\n\u001b[0;32m---> 73\u001b[0m     \u001b[39mreturn\u001b[39;00m \u001b[39mself\u001b[39;49m\u001b[39m.\u001b[39;49m_graph\u001b[39m.\u001b[39;49m_get_n_repr(\u001b[39mself\u001b[39;49m\u001b[39m.\u001b[39;49m_ntid, \u001b[39mself\u001b[39;49m\u001b[39m.\u001b[39;49m_nodes)[key]\n",
      "File \u001b[0;32m~/anaconda3/envs/pt/lib/python3.9/site-packages/dgl/frame.py:622\u001b[0m, in \u001b[0;36mFrame.__getitem__\u001b[0;34m(self, name)\u001b[0m\n\u001b[1;32m    609\u001b[0m \u001b[39mdef\u001b[39;00m \u001b[39m__getitem__\u001b[39m(\u001b[39mself\u001b[39m, name):\n\u001b[1;32m    610\u001b[0m     \u001b[39m\"\"\"Return the column of the given name.\u001b[39;00m\n\u001b[1;32m    611\u001b[0m \n\u001b[1;32m    612\u001b[0m \u001b[39m    Parameters\u001b[39;00m\n\u001b[0;32m   (...)\u001b[0m\n\u001b[1;32m    620\u001b[0m \u001b[39m        Column data.\u001b[39;00m\n\u001b[1;32m    621\u001b[0m \u001b[39m    \"\"\"\u001b[39;00m\n\u001b[0;32m--> 622\u001b[0m     \u001b[39mreturn\u001b[39;00m \u001b[39mself\u001b[39;49m\u001b[39m.\u001b[39;49m_columns[name]\u001b[39m.\u001b[39mdata\n",
      "\u001b[0;31mKeyError\u001b[0m: 't0'"
     ]
    }
   ],
   "source": [
    "# glist, label_dict = load_graphs('data/ogbn_graphs.bin')\n",
    "device = torch.device('cuda')\n",
    "time_window = 8\n",
    "\n",
    "train_feats, train_labels, val_feats, val_labels, test_feats, test_labels = load_ML_data(time_window, device)\n",
    "\n",
    "print(train_feats[0].ndata)\n",
    "\n",
    "graph_atom = test_feats[0]\n",
    "model_out_path = 'output/ML'\n",
    "auc_list, ap_list = [], []\n",
    "\n",
    "for k in range(1):\n",
    "    htgnn = HTGNN(graph=graph_atom, n_inp=64, n_hid=32, n_layers=2, n_heads=1, time_window=time_window, norm=True, device=device)\n",
    "    predictor = LinkPredictor_ml(n_inp=32, n_classes=1)\n",
    "    model = nn.Sequential(htgnn, predictor).to(device)\n",
    "\n",
    "    print(f'---------------Repeat time: {k+1}---------------------')\n",
    "    print(f'# params: {sum(p.numel() for p in model.parameters() if p.requires_grad)}')\n",
    "    optim = torch.optim.Adam(model.parameters(), lr=5e-3, weight_decay=5e-4)\n",
    "\n",
    "    early_stopping = EarlyStopping(patience=50, verbose=True, path=f'{model_out_path}/checkpoint_HTGNN_{k}.pt')\n",
    "    for epoch in range(500):\n",
    "        model.train()\n",
    "        for (G_feat, (pos_label, neg_label)) in zip(train_feats, train_labels):\n",
    "\n",
    "            G_feat = G_feat.to(device)\n",
    "\n",
    "            # pos_label = pos_label.to(device)\n",
    "            # neg_label = neg_label.to(device)\n",
    "\n",
    "            # print(G_feat.ndata)\n",
    "\n",
    "            h_u = model[0](G_feat, 'user')\n",
    "            h_m = model[0](G_feat, 'movie')\n",
    "            # h_u = torch.ones((944,32),device='cuda')\n",
    "            # h_m = torch.ones((1683,32),device='cuda')\n",
    "\n",
    "            pos_u, pos_m = pos_label[0], pos_label[1]\n",
    "            neg_u, neg_m = neg_label[0], neg_label[1]\n",
    "\n",
    "            pos_score, neg_score = model[1](h_u, h_m, pos_u, pos_m, neg_u, neg_m)\n",
    "\n",
    "            # pos_score = model[1](pos_label, h)\n",
    "            # neg_score = model[1](neg_label, h)\n",
    "            \n",
    "            loss = compute_loss(pos_score, neg_score, device)\n",
    "            auc, ap = compute_metric(pos_score, neg_score)\n",
    "\n",
    "            optim.zero_grad()\n",
    "            loss.backward()\n",
    "            optim.step()\n",
    "        \n",
    "        auc, ap = evaluate(model, val_feats, val_labels)\n",
    "        early_stopping(loss, model)\n",
    "\n",
    "        if early_stopping.early_stop:\n",
    "            print(\"Early stopping\")\n",
    "            break\n",
    "\n",
    "    model.load_state_dict(torch.load(f'{model_out_path}/checkpoint_HTGNN_{k}.pt'))\n",
    "    auc, ap = evaluate(model, test_feats, test_labels)\n",
    "\n",
    "    print(f'auc: {auc}, ap: {ap}')\n",
    "    auc_list.append(auc)\n",
    "    ap_list.append(ap)"
   ]
  },
  {
   "cell_type": "code",
   "execution_count": 4,
   "metadata": {},
   "outputs": [
    {
     "name": "stdout",
     "output_type": "stream",
     "text": [
      "AUC: 0.9100877512024033, 0.007723909849077316\n",
      "AP: 0.8917769733866674, 0.01237942594912229\n"
     ]
    }
   ],
   "source": [
    "import statistics\n",
    "\n",
    "print(f'AUC: {statistics.mean(auc_list)}, {statistics.stdev(auc_list)}')\n",
    "print(f'AP: {statistics.mean(ap_list)}, {statistics.stdev(ap_list)}')"
   ]
  }
 ],
 "metadata": {
  "kernelspec": {
   "display_name": "pt",
   "language": "python",
   "name": "python3"
  },
  "language_info": {
   "codemirror_mode": {
    "name": "ipython",
    "version": 3
   },
   "file_extension": ".py",
   "mimetype": "text/x-python",
   "name": "python",
   "nbconvert_exporter": "python",
   "pygments_lexer": "ipython3",
   "version": "3.9.15"
  },
  "vscode": {
   "interpreter": {
    "hash": "55bda1b7df90b08c6cf1f6311494e58e017df1e2a9c0703d9808f934a770372c"
   }
  }
 },
 "nbformat": 4,
 "nbformat_minor": 4
}
