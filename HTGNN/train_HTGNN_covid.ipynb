{
 "cells": [
  {
   "cell_type": "code",
   "execution_count": 1,
   "metadata": {},
   "outputs": [
    {
     "name": "stderr",
     "output_type": "stream",
     "text": [
      "/home/jiazhengli/anaconda3/envs/pt/lib/python3.9/site-packages/tqdm/auto.py:22: TqdmWarning: IProgress not found. Please update jupyter and ipywidgets. See https://ipywidgets.readthedocs.io/en/stable/user_install.html\n",
      "  from .autonotebook import tqdm as notebook_tqdm\n"
     ]
    }
   ],
   "source": [
    "import dgl\n",
    "from dgl.data.utils import load_graphs\n",
    "\n",
    "import torch\n",
    "import torch.nn as nn\n",
    "import torch.nn.functional as F\n",
    "import numpy as np\n",
    "\n",
    "from model.model_gcn import HTGNN, NodePredictor\n",
    "from utils.pytorchtools import EarlyStopping\n",
    "from utils.data import load_COVID_data\n",
    "\n",
    "dgl.seed(0)\n",
    "np.random.seed(0)\n",
    "torch.manual_seed(0)\n",
    "torch.cuda.manual_seed(0)\n",
    "torch.cuda.manual_seed_all(0)"
   ]
  },
  {
   "cell_type": "code",
   "execution_count": 2,
   "metadata": {},
   "outputs": [],
   "source": [
    "def evaluate(model, val_feats, val_labels):\n",
    "    val_mae_list, val_rmse_list = [], []\n",
    "    model.eval()\n",
    "    with torch.no_grad():\n",
    "        for (G_feat, G_label) in zip(val_feats, val_labels):\n",
    "            h = model[0](G_feat.to(device), 'state')\n",
    "            pred = model[1](h)\n",
    "            label = G_label.nodes['state'].data['feat']\n",
    "            loss = F.l1_loss(pred, label.to(device))\n",
    "            rmse = torch.sqrt(F.mse_loss(pred, label.to(device)))\n",
    "\n",
    "            val_mae_list.append(loss.item())\n",
    "            val_rmse_list.append(rmse.item())\n",
    "            \n",
    "        loss = sum(val_mae_list) / len(val_mae_list)\n",
    "        rmse = sum(val_rmse_list) / len(val_rmse_list)\n",
    "\n",
    "    return loss, rmse"
   ]
  },
  {
   "cell_type": "code",
   "execution_count": 3,
   "metadata": {},
   "outputs": [],
   "source": [
    "device = torch.device('cuda')\n",
    "glist, _ = load_graphs('data/covid_graphs.bin')\n",
    "time_window = 15\n",
    "\n",
    "train_feats, train_labels, val_feats, val_labels, test_feats, test_labels = load_COVID_data(glist, time_window)"
   ]
  },
  {
   "cell_type": "code",
   "execution_count": 8,
   "metadata": {},
   "outputs": [
    {
     "data": {
      "text/plain": [
       "Graph(num_nodes={'county': 3223, 'state': 51},\n",
       "      num_edges={('county', 'affiliate_r_t0', 'state'): 3141, ('county', 'affiliate_r_t1', 'state'): 3141, ('county', 'affiliate_r_t10', 'state'): 3141, ('county', 'affiliate_r_t11', 'state'): 3141, ('county', 'affiliate_r_t12', 'state'): 3141, ('county', 'affiliate_r_t13', 'state'): 3141, ('county', 'affiliate_r_t14', 'state'): 3141, ('county', 'affiliate_r_t2', 'state'): 3141, ('county', 'affiliate_r_t3', 'state'): 3141, ('county', 'affiliate_r_t4', 'state'): 3141, ('county', 'affiliate_r_t5', 'state'): 3141, ('county', 'affiliate_r_t6', 'state'): 3141, ('county', 'affiliate_r_t7', 'state'): 3141, ('county', 'affiliate_r_t8', 'state'): 3141, ('county', 'affiliate_r_t9', 'state'): 3141, ('county', 'nearby_county_t0', 'county'): 22176, ('county', 'nearby_county_t1', 'county'): 22176, ('county', 'nearby_county_t10', 'county'): 22176, ('county', 'nearby_county_t11', 'county'): 22176, ('county', 'nearby_county_t12', 'county'): 22176, ('county', 'nearby_county_t13', 'county'): 22176, ('county', 'nearby_county_t14', 'county'): 22176, ('county', 'nearby_county_t2', 'county'): 22176, ('county', 'nearby_county_t3', 'county'): 22176, ('county', 'nearby_county_t4', 'county'): 22176, ('county', 'nearby_county_t5', 'county'): 22176, ('county', 'nearby_county_t6', 'county'): 22176, ('county', 'nearby_county_t7', 'county'): 22176, ('county', 'nearby_county_t8', 'county'): 22176, ('county', 'nearby_county_t9', 'county'): 22176, ('state', 'affiliate_t0', 'county'): 3141, ('state', 'affiliate_t1', 'county'): 3141, ('state', 'affiliate_t10', 'county'): 3141, ('state', 'affiliate_t11', 'county'): 3141, ('state', 'affiliate_t12', 'county'): 3141, ('state', 'affiliate_t13', 'county'): 3141, ('state', 'affiliate_t14', 'county'): 3141, ('state', 'affiliate_t2', 'county'): 3141, ('state', 'affiliate_t3', 'county'): 3141, ('state', 'affiliate_t4', 'county'): 3141, ('state', 'affiliate_t5', 'county'): 3141, ('state', 'affiliate_t6', 'county'): 3141, ('state', 'affiliate_t7', 'county'): 3141, ('state', 'affiliate_t8', 'county'): 3141, ('state', 'affiliate_t9', 'county'): 3141, ('state', 'nearby_state_t0', 'state'): 269, ('state', 'nearby_state_t1', 'state'): 269, ('state', 'nearby_state_t10', 'state'): 269, ('state', 'nearby_state_t11', 'state'): 269, ('state', 'nearby_state_t12', 'state'): 269, ('state', 'nearby_state_t13', 'state'): 269, ('state', 'nearby_state_t14', 'state'): 269, ('state', 'nearby_state_t2', 'state'): 269, ('state', 'nearby_state_t3', 'state'): 269, ('state', 'nearby_state_t4', 'state'): 269, ('state', 'nearby_state_t5', 'state'): 269, ('state', 'nearby_state_t6', 'state'): 269, ('state', 'nearby_state_t7', 'state'): 269, ('state', 'nearby_state_t8', 'state'): 269, ('state', 'nearby_state_t9', 'state'): 269},\n",
       "      metagraph=[('county', 'state', 'affiliate_r_t0'), ('county', 'state', 'affiliate_r_t1'), ('county', 'state', 'affiliate_r_t10'), ('county', 'state', 'affiliate_r_t11'), ('county', 'state', 'affiliate_r_t12'), ('county', 'state', 'affiliate_r_t13'), ('county', 'state', 'affiliate_r_t14'), ('county', 'state', 'affiliate_r_t2'), ('county', 'state', 'affiliate_r_t3'), ('county', 'state', 'affiliate_r_t4'), ('county', 'state', 'affiliate_r_t5'), ('county', 'state', 'affiliate_r_t6'), ('county', 'state', 'affiliate_r_t7'), ('county', 'state', 'affiliate_r_t8'), ('county', 'state', 'affiliate_r_t9'), ('county', 'county', 'nearby_county_t0'), ('county', 'county', 'nearby_county_t1'), ('county', 'county', 'nearby_county_t10'), ('county', 'county', 'nearby_county_t11'), ('county', 'county', 'nearby_county_t12'), ('county', 'county', 'nearby_county_t13'), ('county', 'county', 'nearby_county_t14'), ('county', 'county', 'nearby_county_t2'), ('county', 'county', 'nearby_county_t3'), ('county', 'county', 'nearby_county_t4'), ('county', 'county', 'nearby_county_t5'), ('county', 'county', 'nearby_county_t6'), ('county', 'county', 'nearby_county_t7'), ('county', 'county', 'nearby_county_t8'), ('county', 'county', 'nearby_county_t9'), ('state', 'county', 'affiliate_t0'), ('state', 'county', 'affiliate_t1'), ('state', 'county', 'affiliate_t10'), ('state', 'county', 'affiliate_t11'), ('state', 'county', 'affiliate_t12'), ('state', 'county', 'affiliate_t13'), ('state', 'county', 'affiliate_t14'), ('state', 'county', 'affiliate_t2'), ('state', 'county', 'affiliate_t3'), ('state', 'county', 'affiliate_t4'), ('state', 'county', 'affiliate_t5'), ('state', 'county', 'affiliate_t6'), ('state', 'county', 'affiliate_t7'), ('state', 'county', 'affiliate_t8'), ('state', 'county', 'affiliate_t9'), ('state', 'state', 'nearby_state_t0'), ('state', 'state', 'nearby_state_t1'), ('state', 'state', 'nearby_state_t10'), ('state', 'state', 'nearby_state_t11'), ('state', 'state', 'nearby_state_t12'), ('state', 'state', 'nearby_state_t13'), ('state', 'state', 'nearby_state_t14'), ('state', 'state', 'nearby_state_t2'), ('state', 'state', 'nearby_state_t3'), ('state', 'state', 'nearby_state_t4'), ('state', 'state', 'nearby_state_t5'), ('state', 'state', 'nearby_state_t6'), ('state', 'state', 'nearby_state_t7'), ('state', 'state', 'nearby_state_t8'), ('state', 'state', 'nearby_state_t9')])"
      ]
     },
     "execution_count": 8,
     "metadata": {},
     "output_type": "execute_result"
    }
   ],
   "source": [
    "test_feats[0]"
   ]
  },
  {
   "cell_type": "code",
   "execution_count": 6,
   "metadata": {},
   "outputs": [
    {
     "data": {
      "text/plain": [
       "30"
      ]
     },
     "execution_count": 6,
     "metadata": {},
     "output_type": "execute_result"
    }
   ],
   "source": [
    "len(test_feats)"
   ]
  },
  {
   "cell_type": "code",
   "execution_count": 3,
   "metadata": {
    "scrolled": true,
    "tags": []
   },
   "outputs": [
    {
     "name": "stdout",
     "output_type": "stream",
     "text": [
      "---------------Repeat time: 1---------------------\n",
      "# params: 12789\n",
      "568.4905486460857 1192.6530862999796\n",
      "Validation loss decreased (inf --> 1278.985883).  Saving model ...\n",
      "558.1615822637966 1177.5434535996883\n",
      "Validation loss decreased (1278.985883 --> 1271.857255).  Saving model ...\n",
      "554.2137448395531 1172.9796439313818\n",
      "Validation loss decreased (1271.857255 --> 1268.975551).  Saving model ...\n",
      "554.176777294109 1172.1263535178905\n",
      "EarlyStopping counter: 1 out of 10\n",
      "553.3977641609558 1172.756441194626\n",
      "EarlyStopping counter: 2 out of 10\n",
      "553.1357552640824 1172.635151547983\n",
      "Validation loss decreased (1268.975551 --> 1261.758828).  Saving model ...\n",
      "552.6517899025996 1172.6969718433363\n",
      "EarlyStopping counter: 1 out of 10\n",
      "552.3200276470601 1172.5582042677433\n",
      "EarlyStopping counter: 2 out of 10\n",
      "551.6183533721731 1171.9199905580597\n",
      "EarlyStopping counter: 3 out of 10\n",
      "550.8775803811685 1171.3035742947109\n",
      "EarlyStopping counter: 4 out of 10\n",
      "549.410109065269 1169.1360139744581\n",
      "Validation loss decreased (1261.758828 --> 1252.313588).  Saving model ...\n",
      "547.6677154030168 1166.509583630069\n",
      "Validation loss decreased (1252.313588 --> 1240.123700).  Saving model ...\n",
      "546.5216173499392 1164.481967796605\n",
      "Validation loss decreased (1240.123700 --> 1234.531150).  Saving model ...\n",
      "545.043270351436 1162.164657259612\n",
      "EarlyStopping counter: 1 out of 10\n",
      "544.3931432532431 1160.7997487030696\n",
      "EarlyStopping counter: 2 out of 10\n",
      "543.7583998446902 1159.4723633303913\n",
      "EarlyStopping counter: 3 out of 10\n",
      "543.4533677668245 1159.2985985768414\n",
      "EarlyStopping counter: 4 out of 10\n",
      "542.9397850795489 1158.6149454982115\n",
      "EarlyStopping counter: 5 out of 10\n",
      "542.3782174722596 1158.1050513970445\n",
      "EarlyStopping counter: 6 out of 10\n",
      "541.8732542596009 1157.4727439747107\n",
      "EarlyStopping counter: 7 out of 10\n",
      "541.358092470064 1156.7814864747413\n",
      "EarlyStopping counter: 8 out of 10\n",
      "540.7854965273565 1155.9530053799376\n",
      "EarlyStopping counter: 9 out of 10\n",
      "540.2620786612913 1155.1215083417571\n",
      "EarlyStopping counter: 10 out of 10\n",
      "Early stopping\n"
     ]
    },
    {
     "ename": "FileNotFoundError",
     "evalue": "[Errno 2] No such file or directory: 'output/COVID19/checkpoint_HTGNN_0_w15.pt'",
     "output_type": "error",
     "traceback": [
      "\u001b[0;31m---------------------------------------------------------------------------\u001b[0m",
      "\u001b[0;31mFileNotFoundError\u001b[0m                         Traceback (most recent call last)",
      "\u001b[1;32m/home/jiazhengli/xdgnn/HTGNN/run_covid_gcn.ipynb Cell 6\u001b[0m in \u001b[0;36m5\n\u001b[1;32m     <a href='vscode-notebook-cell://ssh-remote%2B172.20.229.152/home/jiazhengli/xdgnn/HTGNN/run_covid_gcn.ipynb#W5sdnNjb2RlLXJlbW90ZQ%3D%3D?line=48'>49</a>\u001b[0m         \u001b[39mprint\u001b[39m(\u001b[39m\"\u001b[39m\u001b[39mEarly stopping\u001b[39m\u001b[39m\"\u001b[39m)\n\u001b[1;32m     <a href='vscode-notebook-cell://ssh-remote%2B172.20.229.152/home/jiazhengli/xdgnn/HTGNN/run_covid_gcn.ipynb#W5sdnNjb2RlLXJlbW90ZQ%3D%3D?line=49'>50</a>\u001b[0m         \u001b[39mbreak\u001b[39;00m\n\u001b[0;32m---> <a href='vscode-notebook-cell://ssh-remote%2B172.20.229.152/home/jiazhengli/xdgnn/HTGNN/run_covid_gcn.ipynb#W5sdnNjb2RlLXJlbW90ZQ%3D%3D?line=51'>52</a>\u001b[0m model\u001b[39m.\u001b[39mload_state_dict(torch\u001b[39m.\u001b[39;49mload(\u001b[39mf\u001b[39;49m\u001b[39m'\u001b[39;49m\u001b[39m{\u001b[39;49;00mmodel_out_path\u001b[39m}\u001b[39;49;00m\u001b[39m/checkpoint_HTGNN_\u001b[39;49m\u001b[39m{\u001b[39;49;00mk\u001b[39m}\u001b[39;49;00m\u001b[39m_w15.pt\u001b[39;49m\u001b[39m'\u001b[39;49m))\n\u001b[1;32m     <a href='vscode-notebook-cell://ssh-remote%2B172.20.229.152/home/jiazhengli/xdgnn/HTGNN/run_covid_gcn.ipynb#W5sdnNjb2RlLXJlbW90ZQ%3D%3D?line=52'>53</a>\u001b[0m mae, rmse \u001b[39m=\u001b[39m evaluate(model, test_feats, test_labels)\n\u001b[1;32m     <a href='vscode-notebook-cell://ssh-remote%2B172.20.229.152/home/jiazhengli/xdgnn/HTGNN/run_covid_gcn.ipynb#W5sdnNjb2RlLXJlbW90ZQ%3D%3D?line=54'>55</a>\u001b[0m \u001b[39mprint\u001b[39m(\u001b[39mf\u001b[39m\u001b[39m'\u001b[39m\u001b[39mmae: \u001b[39m\u001b[39m{\u001b[39;00mmae\u001b[39m}\u001b[39;00m\u001b[39m, rmse: \u001b[39m\u001b[39m{\u001b[39;00mrmse\u001b[39m}\u001b[39;00m\u001b[39m'\u001b[39m)\n",
      "File \u001b[0;32m~/anaconda3/envs/pt/lib/python3.9/site-packages/torch/serialization.py:771\u001b[0m, in \u001b[0;36mload\u001b[0;34m(f, map_location, pickle_module, weights_only, **pickle_load_args)\u001b[0m\n\u001b[1;32m    768\u001b[0m \u001b[39mif\u001b[39;00m \u001b[39m'\u001b[39m\u001b[39mencoding\u001b[39m\u001b[39m'\u001b[39m \u001b[39mnot\u001b[39;00m \u001b[39min\u001b[39;00m pickle_load_args\u001b[39m.\u001b[39mkeys():\n\u001b[1;32m    769\u001b[0m     pickle_load_args[\u001b[39m'\u001b[39m\u001b[39mencoding\u001b[39m\u001b[39m'\u001b[39m] \u001b[39m=\u001b[39m \u001b[39m'\u001b[39m\u001b[39mutf-8\u001b[39m\u001b[39m'\u001b[39m\n\u001b[0;32m--> 771\u001b[0m \u001b[39mwith\u001b[39;00m _open_file_like(f, \u001b[39m'\u001b[39;49m\u001b[39mrb\u001b[39;49m\u001b[39m'\u001b[39;49m) \u001b[39mas\u001b[39;00m opened_file:\n\u001b[1;32m    772\u001b[0m     \u001b[39mif\u001b[39;00m _is_zipfile(opened_file):\n\u001b[1;32m    773\u001b[0m         \u001b[39m# The zipfile reader is going to advance the current file position.\u001b[39;00m\n\u001b[1;32m    774\u001b[0m         \u001b[39m# If we want to actually tail call to torch.jit.load, we need to\u001b[39;00m\n\u001b[1;32m    775\u001b[0m         \u001b[39m# reset back to the original position.\u001b[39;00m\n\u001b[1;32m    776\u001b[0m         orig_position \u001b[39m=\u001b[39m opened_file\u001b[39m.\u001b[39mtell()\n",
      "File \u001b[0;32m~/anaconda3/envs/pt/lib/python3.9/site-packages/torch/serialization.py:270\u001b[0m, in \u001b[0;36m_open_file_like\u001b[0;34m(name_or_buffer, mode)\u001b[0m\n\u001b[1;32m    268\u001b[0m \u001b[39mdef\u001b[39;00m \u001b[39m_open_file_like\u001b[39m(name_or_buffer, mode):\n\u001b[1;32m    269\u001b[0m     \u001b[39mif\u001b[39;00m _is_path(name_or_buffer):\n\u001b[0;32m--> 270\u001b[0m         \u001b[39mreturn\u001b[39;00m _open_file(name_or_buffer, mode)\n\u001b[1;32m    271\u001b[0m     \u001b[39melse\u001b[39;00m:\n\u001b[1;32m    272\u001b[0m         \u001b[39mif\u001b[39;00m \u001b[39m'\u001b[39m\u001b[39mw\u001b[39m\u001b[39m'\u001b[39m \u001b[39min\u001b[39;00m mode:\n",
      "File \u001b[0;32m~/anaconda3/envs/pt/lib/python3.9/site-packages/torch/serialization.py:251\u001b[0m, in \u001b[0;36m_open_file.__init__\u001b[0;34m(self, name, mode)\u001b[0m\n\u001b[1;32m    250\u001b[0m \u001b[39mdef\u001b[39;00m \u001b[39m__init__\u001b[39m(\u001b[39mself\u001b[39m, name, mode):\n\u001b[0;32m--> 251\u001b[0m     \u001b[39msuper\u001b[39m(_open_file, \u001b[39mself\u001b[39m)\u001b[39m.\u001b[39m\u001b[39m__init__\u001b[39m(\u001b[39mopen\u001b[39;49m(name, mode))\n",
      "\u001b[0;31mFileNotFoundError\u001b[0m: [Errno 2] No such file or directory: 'output/COVID19/checkpoint_HTGNN_0_w15.pt'"
     ]
    }
   ],
   "source": [
    "device = torch.device('cuda')\n",
    "glist, _ = load_graphs('data/covid_graphs.bin')\n",
    "time_window = 15\n",
    "\n",
    "train_feats, train_labels, val_feats, val_labels, test_feats, test_labels = load_COVID_data(glist, time_window)\n",
    "\n",
    "graph_atom = test_feats[0]\n",
    "mae_list, rmse_list = [], []\n",
    "model_out_path = 'output/COVID19'\n",
    "\n",
    "for k in range(1):\n",
    "    htgnn = HTGNN(graph=graph_atom, n_inp=1, n_hid=8, n_layers=2, n_heads=1, time_window=time_window, norm=False, device=device)\n",
    "    predictor = NodePredictor(n_inp=8, n_classes=1)\n",
    "    model = nn.Sequential(htgnn, predictor).to(device)\n",
    "\n",
    "    print(f'---------------Repeat time: {k+1}---------------------')\n",
    "    print(f'# params: {sum(p.numel() for p in model.parameters() if p.requires_grad)}')\n",
    "    \n",
    "    early_stopping = EarlyStopping(patience=10, verbose=True, path=f'{model_out_path}/checkpoint_HTGNN_{k}_w15.pt')\n",
    "    optim = torch.optim.Adam(model.parameters(), lr=5e-3, weight_decay=5e-4)\n",
    "    \n",
    "    train_mae_list, train_rmse_list = [], []\n",
    "    idx = np.random.permutation(len(train_feats))\n",
    "\n",
    "    for epoch in range(500):\n",
    "        model.train()\n",
    "        for i in idx:\n",
    "\n",
    "            G_feat = train_feats[i]\n",
    "            G_label = train_labels[i]\n",
    "            \n",
    "            h = model[0](G_feat.to(device), 'state')\n",
    "            pred = model[1](h)\n",
    "            label = G_label.nodes['state'].data['feat']\n",
    "            loss = F.l1_loss(pred, label.to(device))\n",
    "            rmse = torch.sqrt(F.mse_loss(pred, label.to(device)))\n",
    "\n",
    "            train_mae_list.append(loss.item())\n",
    "            train_rmse_list.append(rmse.item())\n",
    "            optim.zero_grad()\n",
    "            loss.backward()\n",
    "            optim.step()\n",
    "        print(sum(train_mae_list) / len(train_mae_list), sum(train_rmse_list) / len(train_rmse_list))\n",
    "\n",
    "        loss, rmse = evaluate(model, val_feats, val_labels)\n",
    "        early_stopping(loss, model)\n",
    "\n",
    "        if early_stopping.early_stop:\n",
    "            print(\"Early stopping\")\n",
    "            break\n",
    "\n",
    "    model.load_state_dict(torch.load(f'{model_out_path}/checkpoint_HTGNN_{k}_w15.pt'))\n",
    "    mae, rmse = evaluate(model, test_feats, test_labels)\n",
    "\n",
    "    print(f'mae: {mae}, rmse: {rmse}')\n",
    "    mae_list.append(mae)\n",
    "    rmse_list.append(rmse)"
   ]
  },
  {
   "cell_type": "code",
   "execution_count": 4,
   "metadata": {},
   "outputs": [
    {
     "name": "stdout",
     "output_type": "stream",
     "text": [
      "MAE: 555.4028908284505, 34.10586975793963\n",
      "RMSE: 1136.4205775960286, 65.13613775925027\n"
     ]
    }
   ],
   "source": [
    "import statistics\n",
    "\n",
    "print(f'MAE: {statistics.mean(mae_list)}, {statistics.stdev(mae_list)}')\n",
    "print(f'RMSE: {statistics.mean(rmse_list)}, {statistics.stdev(rmse_list)}')"
   ]
  }
 ],
 "metadata": {
  "kernelspec": {
   "display_name": "pt",
   "language": "python",
   "name": "python3"
  },
  "language_info": {
   "codemirror_mode": {
    "name": "ipython",
    "version": 3
   },
   "file_extension": ".py",
   "mimetype": "text/x-python",
   "name": "python",
   "nbconvert_exporter": "python",
   "pygments_lexer": "ipython3",
   "version": "3.9.15"
  },
  "vscode": {
   "interpreter": {
    "hash": "55bda1b7df90b08c6cf1f6311494e58e017df1e2a9c0703d9808f934a770372c"
   }
  }
 },
 "nbformat": 4,
 "nbformat_minor": 4
}
